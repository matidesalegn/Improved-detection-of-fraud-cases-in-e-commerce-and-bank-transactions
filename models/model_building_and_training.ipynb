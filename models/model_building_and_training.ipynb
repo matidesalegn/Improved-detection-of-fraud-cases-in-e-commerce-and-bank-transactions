{
 "cells": [
  {
   "cell_type": "markdown",
   "metadata": {},
   "source": [
    "# Data Preparation"
   ]
  },
  {
   "cell_type": "code",
   "execution_count": 9,
   "metadata": {},
   "outputs": [
    {
     "name": "stdout",
     "output_type": "stream",
     "text": [
      "Fraud Data Columns:\n",
      "Index(['user_id', 'signup_time', 'purchase_time', 'purchase_value',\n",
      "       'device_id', 'age', 'ip_address', 'class', 'ip_address_int',\n",
      "       'transaction_count',\n",
      "       ...\n",
      "       'country_Unknown', 'country_Uruguay', 'country_Uzbekistan',\n",
      "       'country_Vanuatu', 'country_Venezuela', 'country_Viet Nam',\n",
      "       'country_Virgin Islands (U.S.)', 'country_Yemen', 'country_Zambia',\n",
      "       'country_Zimbabwe'],\n",
      "      dtype='object', length=203)\n",
      "\n",
      "Credit Card Data Columns:\n",
      "Index(['Time', 'V1', 'V2', 'V3', 'V4', 'V5', 'V6', 'V7', 'V8', 'V9', 'V10',\n",
      "       'V11', 'V12', 'V13', 'V14', 'V15', 'V16', 'V17', 'V18', 'V19', 'V20',\n",
      "       'V21', 'V22', 'V23', 'V24', 'V25', 'V26', 'V27', 'V28', 'Amount',\n",
      "       'Class'],\n",
      "      dtype='object')\n"
     ]
    }
   ],
   "source": [
    "# Import necessary libraries\n",
    "import pandas as pd\n",
    "from sklearn.model_selection import train_test_split\n",
    "from sklearn.linear_model import LogisticRegression\n",
    "from sklearn.tree import DecisionTreeClassifier\n",
    "from sklearn.ensemble import RandomForestClassifier, GradientBoostingClassifier\n",
    "from sklearn.neural_network import MLPClassifier\n",
    "from sklearn.metrics import classification_report, accuracy_score\n",
    "import mlflow\n",
    "import mlflow.sklearn\n",
    "\n",
    "# Load processed data\n",
    "fraud_data = pd.read_csv('../data/processed/processed_fraud_data_with_country.csv')\n",
    "credit_card_data = pd.read_csv('../data/processed/processed_credit_card_data.csv')\n",
    "\n",
    "# Check the structure and columns of the datasets\n",
    "print(\"Fraud Data Columns:\")\n",
    "print(fraud_data.columns)\n",
    "print(\"\\nCredit Card Data Columns:\")\n",
    "print(credit_card_data.columns)\n",
    "\n",
    "# Feature and target separation for fraud detection data\n",
    "X_fraud = fraud_data.drop(columns=['class'])  # Features\n",
    "y_fraud = fraud_data['class']                # Target\n",
    "\n",
    "# Feature and target separation for credit card data\n",
    "X_credit = credit_card_data.drop(columns=['Class'])  # Features\n",
    "y_credit = credit_card_data['Class']                # Target\n",
    "\n",
    "# Train-test split for fraud data\n",
    "X_train_fraud, X_test_fraud, y_train_fraud, y_test_fraud = train_test_split(X_fraud, y_fraud, test_size=0.2, random_state=42)\n",
    "\n",
    "# Train-test split for credit card data\n",
    "X_train_credit, X_test_credit, y_train_credit, y_test_credit = train_test_split(X_credit, y_credit, test_size=0.2, random_state=42)"
   ]
  },
  {
   "cell_type": "markdown",
   "metadata": {},
   "source": [
    "# Model Selection, Training, and Evaluation"
   ]
  },
  {
   "cell_type": "code",
   "execution_count": null,
   "metadata": {},
   "outputs": [],
   "source": [
    "# Initialize models\n",
    "models = {\n",
    "    'Logistic Regression': LogisticRegression(),\n",
    "    'Decision Tree': DecisionTreeClassifier(),\n",
    "    'Random Forest': RandomForestClassifier(),\n",
    "    'Gradient Boosting': GradientBoostingClassifier(),\n",
    "    'MLP': MLPClassifier()\n",
    "}\n",
    "\n",
    "# Train and evaluate models for fraud detection data\n",
    "for name, model in models.items():\n",
    "    with mlflow.start_run(run_name=f'{name} on Fraud Data'):\n",
    "        model.fit(X_train_fraud, y_train_fraud)\n",
    "        y_pred = model.predict(X_test_fraud)\n",
    "        accuracy = accuracy_score(y_test_fraud, y_pred)\n",
    "        \n",
    "        # Log parameters and metrics\n",
    "        mlflow.log_params({\n",
    "            'model': name,\n",
    "            'dataset': 'Fraud Data',\n",
    "            'test_size': 0.2,\n",
    "            'random_state': 42\n",
    "        })\n",
    "        mlflow.log_metric('accuracy', accuracy)\n",
    "        \n",
    "        # Save the model\n",
    "        mlflow.sklearn.log_model(model, f'{name}_model')\n",
    "        \n",
    "        # Print and log classification report\n",
    "        print(f\"Model: {name}\")\n",
    "        print(f\"Accuracy: {accuracy}\")\n",
    "        print(classification_report(y_test_fraud, y_pred))\n",
    "        print(\"=\"*60)"
   ]
  },
  {
   "cell_type": "code",
   "execution_count": null,
   "metadata": {},
   "outputs": [],
   "source": [
    "# Train and evaluate models for credit card data\n",
    "for name, model in models.items():\n",
    "    with mlflow.start_run(run_name=f'{name} on Credit Card Data'):\n",
    "        model.fit(X_train_credit, y_train_credit)\n",
    "        y_pred = model.predict(X_test_credit)\n",
    "        accuracy = accuracy_score(y_test_credit, y_pred)\n",
    "        \n",
    "        # Log parameters and metrics\n",
    "        mlflow.log_params({\n",
    "            'model': name,\n",
    "            'dataset': 'Credit Card Data',\n",
    "            'test_size': 0.2,\n",
    "            'random_state': 42\n",
    "        })\n",
    "        mlflow.log_metric('accuracy', accuracy)\n",
    "        \n",
    "        # Save the model\n",
    "        mlflow.sklearn.log_model(model, f'{name}_model')\n",
    "        \n",
    "        # Print and log classification report\n",
    "        print(f\"Model: {name}\")\n",
    "        print(f\"Accuracy: {accuracy}\")\n",
    "        print(classification_report(y_test_credit, y_pred))\n",
    "        print(\"=\"*60)"
   ]
  },
  {
   "cell_type": "code",
   "execution_count": null,
   "metadata": {},
   "outputs": [],
   "source": []
  }
 ],
 "metadata": {
  "kernelspec": {
   "display_name": ".venv",
   "language": "python",
   "name": "python3"
  },
  "language_info": {
   "codemirror_mode": {
    "name": "ipython",
    "version": 3
   },
   "file_extension": ".py",
   "mimetype": "text/x-python",
   "name": "python",
   "nbconvert_exporter": "python",
   "pygments_lexer": "ipython3",
   "version": "3.12.2"
  }
 },
 "nbformat": 4,
 "nbformat_minor": 2
}
