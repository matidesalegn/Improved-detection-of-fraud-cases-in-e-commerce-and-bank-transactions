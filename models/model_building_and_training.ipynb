{
 "cells": [
  {
   "cell_type": "markdown",
   "metadata": {},
   "source": [
    "# Data Preparation"
   ]
  },
  {
   "cell_type": "code",
   "execution_count": 10,
   "metadata": {},
   "outputs": [
    {
     "ename": "AttributeError",
     "evalue": "partially initialized module 'mlflow' has no attribute 'version' (most likely due to a circular import)",
     "output_type": "error",
     "traceback": [
      "\u001b[1;31m---------------------------------------------------------------------------\u001b[0m",
      "\u001b[1;31mAttributeError\u001b[0m                            Traceback (most recent call last)",
      "Cell \u001b[1;32mIn[10], line 9\u001b[0m\n\u001b[0;32m      7\u001b[0m \u001b[38;5;28;01mfrom\u001b[39;00m \u001b[38;5;21;01msklearn\u001b[39;00m\u001b[38;5;21;01m.\u001b[39;00m\u001b[38;5;21;01mneural_network\u001b[39;00m \u001b[38;5;28;01mimport\u001b[39;00m MLPClassifier\n\u001b[0;32m      8\u001b[0m \u001b[38;5;28;01mfrom\u001b[39;00m \u001b[38;5;21;01msklearn\u001b[39;00m\u001b[38;5;21;01m.\u001b[39;00m\u001b[38;5;21;01mmetrics\u001b[39;00m \u001b[38;5;28;01mimport\u001b[39;00m classification_report, accuracy_score\n\u001b[1;32m----> 9\u001b[0m \u001b[38;5;28;01mimport\u001b[39;00m \u001b[38;5;21;01mmlflow\u001b[39;00m\n\u001b[0;32m     10\u001b[0m \u001b[38;5;28;01mimport\u001b[39;00m \u001b[38;5;21;01mmlflow\u001b[39;00m\u001b[38;5;21;01m.\u001b[39;00m\u001b[38;5;21;01msklearn\u001b[39;00m\n\u001b[0;32m     11\u001b[0m \u001b[38;5;28;01mfrom\u001b[39;00m \u001b[38;5;21;01msklearn\u001b[39;00m\u001b[38;5;21;01m.\u001b[39;00m\u001b[38;5;21;01mpreprocessing\u001b[39;00m \u001b[38;5;28;01mimport\u001b[39;00m StandardScaler\n",
      "File \u001b[1;32md:\\Improved detection of fraud cases in e-commerce and bank transactions\\.venv\\Lib\\site-packages\\mlflow\\__init__.py:34\u001b[0m\n\u001b[0;32m     31\u001b[0m \u001b[38;5;28;01mfrom\u001b[39;00m \u001b[38;5;21;01mmlflow\u001b[39;00m\u001b[38;5;21;01m.\u001b[39;00m\u001b[38;5;21;01mversion\u001b[39;00m \u001b[38;5;28;01mimport\u001b[39;00m VERSION\n\u001b[0;32m     33\u001b[0m __version__ \u001b[38;5;241m=\u001b[39m VERSION\n\u001b[1;32m---> 34\u001b[0m \u001b[38;5;28;01mfrom\u001b[39;00m \u001b[38;5;21;01mmlflow\u001b[39;00m \u001b[38;5;28;01mimport\u001b[39;00m (\n\u001b[0;32m     35\u001b[0m     artifacts,  \u001b[38;5;66;03m# noqa: F401\u001b[39;00m\n\u001b[0;32m     36\u001b[0m     client,  \u001b[38;5;66;03m# noqa: F401\u001b[39;00m\n\u001b[0;32m     37\u001b[0m     config,  \u001b[38;5;66;03m# noqa: F401\u001b[39;00m\n\u001b[0;32m     38\u001b[0m     data,  \u001b[38;5;66;03m# noqa: F401\u001b[39;00m\n\u001b[0;32m     39\u001b[0m     exceptions,  \u001b[38;5;66;03m# noqa: F401\u001b[39;00m\n\u001b[0;32m     40\u001b[0m     models,  \u001b[38;5;66;03m# noqa: F401\u001b[39;00m\n\u001b[0;32m     41\u001b[0m     projects,  \u001b[38;5;66;03m# noqa: F401\u001b[39;00m\n\u001b[0;32m     42\u001b[0m     tracking,  \u001b[38;5;66;03m# noqa: F401\u001b[39;00m\n\u001b[0;32m     43\u001b[0m )\n\u001b[0;32m     44\u001b[0m \u001b[38;5;28;01mfrom\u001b[39;00m \u001b[38;5;21;01mmlflow\u001b[39;00m\u001b[38;5;21;01m.\u001b[39;00m\u001b[38;5;21;01menvironment_variables\u001b[39;00m \u001b[38;5;28;01mimport\u001b[39;00m MLFLOW_CONFIGURE_LOGGING\n\u001b[0;32m     45\u001b[0m \u001b[38;5;28;01mfrom\u001b[39;00m \u001b[38;5;21;01mmlflow\u001b[39;00m\u001b[38;5;21;01m.\u001b[39;00m\u001b[38;5;21;01mutils\u001b[39;00m\u001b[38;5;21;01m.\u001b[39;00m\u001b[38;5;21;01mlazy_load\u001b[39;00m \u001b[38;5;28;01mimport\u001b[39;00m LazyLoader\n",
      "File \u001b[1;32md:\\Improved detection of fraud cases in e-commerce and bank transactions\\.venv\\Lib\\site-packages\\mlflow\\models\\__init__.py:44\u001b[0m\n\u001b[0;32m     34\u001b[0m \u001b[38;5;28;01mfrom\u001b[39;00m \u001b[38;5;21;01mmlflow\u001b[39;00m\u001b[38;5;21;01m.\u001b[39;00m\u001b[38;5;21;01mmodels\u001b[39;00m\u001b[38;5;21;01m.\u001b[39;00m\u001b[38;5;21;01mevaluation\u001b[39;00m \u001b[38;5;28;01mimport\u001b[39;00m (\n\u001b[0;32m     35\u001b[0m     EvaluationArtifact,\n\u001b[0;32m     36\u001b[0m     EvaluationMetric,\n\u001b[1;32m   (...)\u001b[0m\n\u001b[0;32m     41\u001b[0m     make_metric,\n\u001b[0;32m     42\u001b[0m )\n\u001b[0;32m     43\u001b[0m \u001b[38;5;28;01mfrom\u001b[39;00m \u001b[38;5;21;01mmlflow\u001b[39;00m\u001b[38;5;21;01m.\u001b[39;00m\u001b[38;5;21;01mmodels\u001b[39;00m\u001b[38;5;21;01m.\u001b[39;00m\u001b[38;5;21;01mflavor_backend\u001b[39;00m \u001b[38;5;28;01mimport\u001b[39;00m FlavorBackend\n\u001b[1;32m---> 44\u001b[0m \u001b[38;5;28;01mfrom\u001b[39;00m \u001b[38;5;21;01mmlflow\u001b[39;00m\u001b[38;5;21;01m.\u001b[39;00m\u001b[38;5;21;01mmodels\u001b[39;00m\u001b[38;5;21;01m.\u001b[39;00m\u001b[38;5;21;01mmodel\u001b[39;00m \u001b[38;5;28;01mimport\u001b[39;00m Model, get_model_info, set_model\n\u001b[0;32m     45\u001b[0m \u001b[38;5;28;01mfrom\u001b[39;00m \u001b[38;5;21;01mmlflow\u001b[39;00m\u001b[38;5;21;01m.\u001b[39;00m\u001b[38;5;21;01mmodels\u001b[39;00m\u001b[38;5;21;01m.\u001b[39;00m\u001b[38;5;21;01mmodel_config\u001b[39;00m \u001b[38;5;28;01mimport\u001b[39;00m ModelConfig\n\u001b[0;32m     46\u001b[0m \u001b[38;5;28;01mfrom\u001b[39;00m \u001b[38;5;21;01mmlflow\u001b[39;00m\u001b[38;5;21;01m.\u001b[39;00m\u001b[38;5;21;01mmodels\u001b[39;00m\u001b[38;5;21;01m.\u001b[39;00m\u001b[38;5;21;01mpython_api\u001b[39;00m \u001b[38;5;28;01mimport\u001b[39;00m build_docker\n",
      "File \u001b[1;32md:\\Improved detection of fraud cases in e-commerce and bank transactions\\.venv\\Lib\\site-packages\\mlflow\\models\\model.py:297\u001b[0m\n\u001b[0;32m    292\u001b[0m     \u001b[38;5;129m@registered_model_version\u001b[39m\u001b[38;5;241m.\u001b[39msetter\n\u001b[0;32m    293\u001b[0m     \u001b[38;5;28;01mdef\u001b[39;00m \u001b[38;5;21mregistered_model_version\u001b[39m(\u001b[38;5;28mself\u001b[39m, value):\n\u001b[0;32m    294\u001b[0m         \u001b[38;5;28mself\u001b[39m\u001b[38;5;241m.\u001b[39m_registered_model_version \u001b[38;5;241m=\u001b[39m value\n\u001b[1;32m--> 297\u001b[0m \u001b[38;5;28;43;01mclass\u001b[39;49;00m\u001b[43m \u001b[49m\u001b[38;5;21;43;01mModel\u001b[39;49;00m\u001b[43m:\u001b[49m\n\u001b[0;32m    298\u001b[0m \u001b[38;5;250;43m    \u001b[39;49m\u001b[38;5;124;43;03m\"\"\"\u001b[39;49;00m\n\u001b[0;32m    299\u001b[0m \u001b[38;5;124;43;03m    An MLflow Model that can support multiple model flavors. Provides APIs for implementing\u001b[39;49;00m\n\u001b[0;32m    300\u001b[0m \u001b[38;5;124;43;03m    new Model flavors.\u001b[39;49;00m\n\u001b[0;32m    301\u001b[0m \u001b[38;5;124;43;03m    \"\"\"\u001b[39;49;00m\n\u001b[0;32m    303\u001b[0m \u001b[43m    \u001b[49m\u001b[38;5;28;43;01mdef\u001b[39;49;00m\u001b[43m \u001b[49m\u001b[38;5;21;43m__init__\u001b[39;49m\u001b[43m(\u001b[49m\n\u001b[0;32m    304\u001b[0m \u001b[43m        \u001b[49m\u001b[38;5;28;43mself\u001b[39;49m\u001b[43m,\u001b[49m\n\u001b[0;32m    305\u001b[0m \u001b[43m        \u001b[49m\u001b[43martifact_path\u001b[49m\u001b[38;5;241;43m=\u001b[39;49m\u001b[38;5;28;43;01mNone\u001b[39;49;00m\u001b[43m,\u001b[49m\n\u001b[1;32m   (...)\u001b[0m\n\u001b[0;32m    317\u001b[0m \u001b[43m    \u001b[49m\u001b[43m)\u001b[49m\u001b[43m:\u001b[49m\n\u001b[0;32m    318\u001b[0m \u001b[43m        \u001b[49m\u001b[38;5;66;43;03m# store model id instead of run_id and path to avoid confusion when model gets exported\u001b[39;49;00m\n",
      "File \u001b[1;32md:\\Improved detection of fraud cases in e-commerce and bank transactions\\.venv\\Lib\\site-packages\\mlflow\\models\\model.py:312\u001b[0m, in \u001b[0;36mModel\u001b[1;34m()\u001b[0m\n\u001b[0;32m    297\u001b[0m \u001b[38;5;28;01mclass\u001b[39;00m \u001b[38;5;21;01mModel\u001b[39;00m:\n\u001b[0;32m    298\u001b[0m \u001b[38;5;250m    \u001b[39m\u001b[38;5;124;03m\"\"\"\u001b[39;00m\n\u001b[0;32m    299\u001b[0m \u001b[38;5;124;03m    An MLflow Model that can support multiple model flavors. Provides APIs for implementing\u001b[39;00m\n\u001b[0;32m    300\u001b[0m \u001b[38;5;124;03m    new Model flavors.\u001b[39;00m\n\u001b[0;32m    301\u001b[0m \u001b[38;5;124;03m    \"\"\"\u001b[39;00m\n\u001b[0;32m    303\u001b[0m     \u001b[38;5;28;01mdef\u001b[39;00m \u001b[38;5;21m__init__\u001b[39m(\n\u001b[0;32m    304\u001b[0m         \u001b[38;5;28mself\u001b[39m,\n\u001b[0;32m    305\u001b[0m         artifact_path\u001b[38;5;241m=\u001b[39m\u001b[38;5;28;01mNone\u001b[39;00m,\n\u001b[0;32m    306\u001b[0m         run_id\u001b[38;5;241m=\u001b[39m\u001b[38;5;28;01mNone\u001b[39;00m,\n\u001b[0;32m    307\u001b[0m         utc_time_created\u001b[38;5;241m=\u001b[39m\u001b[38;5;28;01mNone\u001b[39;00m,\n\u001b[0;32m    308\u001b[0m         flavors\u001b[38;5;241m=\u001b[39m\u001b[38;5;28;01mNone\u001b[39;00m,\n\u001b[0;32m    309\u001b[0m         signature\u001b[38;5;241m=\u001b[39m\u001b[38;5;28;01mNone\u001b[39;00m,  \u001b[38;5;66;03m# ModelSignature\u001b[39;00m\n\u001b[0;32m    310\u001b[0m         saved_input_example_info: Optional[Dict[\u001b[38;5;28mstr\u001b[39m, Any]] \u001b[38;5;241m=\u001b[39m \u001b[38;5;28;01mNone\u001b[39;00m,\n\u001b[0;32m    311\u001b[0m         model_uuid: Union[\u001b[38;5;28mstr\u001b[39m, Callable, \u001b[38;5;28;01mNone\u001b[39;00m] \u001b[38;5;241m=\u001b[39m \u001b[38;5;28;01mlambda\u001b[39;00m: uuid\u001b[38;5;241m.\u001b[39muuid4()\u001b[38;5;241m.\u001b[39mhex,\n\u001b[1;32m--> 312\u001b[0m         mlflow_version: Union[\u001b[38;5;28mstr\u001b[39m, \u001b[38;5;28;01mNone\u001b[39;00m] \u001b[38;5;241m=\u001b[39m \u001b[43mmlflow\u001b[49m\u001b[38;5;241;43m.\u001b[39;49m\u001b[43mversion\u001b[49m\u001b[38;5;241m.\u001b[39mVERSION,\n\u001b[0;32m    313\u001b[0m         metadata: Optional[Dict[\u001b[38;5;28mstr\u001b[39m, Any]] \u001b[38;5;241m=\u001b[39m \u001b[38;5;28;01mNone\u001b[39;00m,\n\u001b[0;32m    314\u001b[0m         model_size_bytes: Optional[\u001b[38;5;28mint\u001b[39m] \u001b[38;5;241m=\u001b[39m \u001b[38;5;28;01mNone\u001b[39;00m,\n\u001b[0;32m    315\u001b[0m         resources: Optional[Union[\u001b[38;5;28mstr\u001b[39m, List[Resource]]] \u001b[38;5;241m=\u001b[39m \u001b[38;5;28;01mNone\u001b[39;00m,\n\u001b[0;32m    316\u001b[0m         \u001b[38;5;241m*\u001b[39m\u001b[38;5;241m*\u001b[39mkwargs,\n\u001b[0;32m    317\u001b[0m     ):\n\u001b[0;32m    318\u001b[0m         \u001b[38;5;66;03m# store model id instead of run_id and path to avoid confusion when model gets exported\u001b[39;00m\n\u001b[0;32m    319\u001b[0m         \u001b[38;5;28mself\u001b[39m\u001b[38;5;241m.\u001b[39mrun_id \u001b[38;5;241m=\u001b[39m run_id\n\u001b[0;32m    320\u001b[0m         \u001b[38;5;28mself\u001b[39m\u001b[38;5;241m.\u001b[39martifact_path \u001b[38;5;241m=\u001b[39m artifact_path\n",
      "\u001b[1;31mAttributeError\u001b[0m: partially initialized module 'mlflow' has no attribute 'version' (most likely due to a circular import)"
     ]
    }
   ],
   "source": [
    "# Import necessary libraries\n",
    "import pandas as pd\n",
    "from sklearn.model_selection import train_test_split\n",
    "from sklearn.linear_model import LogisticRegression\n",
    "from sklearn.tree import DecisionTreeClassifier\n",
    "from sklearn.ensemble import RandomForestClassifier, GradientBoostingClassifier\n",
    "from sklearn.neural_network import MLPClassifier\n",
    "from sklearn.metrics import classification_report, accuracy_score\n",
    "import mlflow\n",
    "import mlflow.sklearn\n",
    "from sklearn.preprocessing import StandardScaler\n",
    "from sklearn.compose import ColumnTransformer\n",
    "from sklearn.preprocessing import OneHotEncoder\n",
    "import numpy as np\n",
    "\n",
    "# Load processed data\n",
    "fraud_data = pd.read_csv('../data/processed/processed_fraud_data_with_country.csv')\n",
    "credit_card_data = pd.read_csv('../data/processed/processed_credit_card_data.csv')\n",
    "\n",
    "# Ensure datetime columns are correctly parsed\n",
    "fraud_data['signup_time'] = pd.to_datetime(fraud_data['signup_time'])\n",
    "fraud_data['purchase_time'] = pd.to_datetime(fraud_data['purchase_time'])\n",
    "\n",
    "# Feature Engineering for fraud_data\n",
    "# Extract numerical features from datetime columns\n",
    "fraud_data['signup_hour'] = fraud_data['signup_time'].dt.hour\n",
    "fraud_data['signup_day'] = fraud_data['signup_time'].dt.day\n",
    "fraud_data['signup_month'] = fraud_data['signup_time'].dt.month\n",
    "fraud_data['signup_year'] = fraud_data['signup_time'].dt.year\n",
    "\n",
    "fraud_data['purchase_hour'] = fraud_data['purchase_time'].dt.hour\n",
    "fraud_data['purchase_day'] = fraud_data['purchase_time'].dt.day\n",
    "fraud_data['purchase_month'] = fraud_data['purchase_time'].dt.month\n",
    "fraud_data['purchase_year'] = fraud_data['purchase_time'].dt.year\n",
    "\n",
    "# Drop original datetime columns\n",
    "fraud_data = fraud_data.drop(columns=['signup_time', 'purchase_time'])\n",
    "\n",
    "# Identify categorical columns\n",
    "categorical_columns = fraud_data.select_dtypes(include=['object']).columns.tolist()\n",
    "\n",
    "# Encode categorical features\n",
    "fraud_data = pd.get_dummies(fraud_data, columns=categorical_columns, drop_first=True)\n",
    "\n",
    "# Check the structure and columns of the datasets\n",
    "print(\"Fraud Data Columns:\")\n",
    "print(fraud_data.columns)\n",
    "print(\"\\nCredit Card Data Columns:\")\n",
    "print(credit_card_data.columns)\n",
    "\n",
    "# Feature and target separation for fraud detection data\n",
    "X_fraud = fraud_data.drop(columns=['class'])  # Features\n",
    "y_fraud = fraud_data['class']                # Target\n",
    "\n",
    "# Feature and target separation for credit card data\n",
    "X_credit = credit_card_data.drop(columns=['Class'])  # Features\n",
    "y_credit = credit_card_data['Class']                # Target\n",
    "\n",
    "# Train-test split for fraud data\n",
    "X_train_fraud, X_test_fraud, y_train_fraud, y_test_fraud = train_test_split(X_fraud, y_fraud, test_size=0.2, random_state=42)\n",
    "\n",
    "# Train-test split for credit card data\n",
    "X_train_credit, X_test_credit, y_train_credit, y_test_credit = train_test_split(X_credit, y_credit, test_size=0.2, random_state=42)"
   ]
  },
  {
   "cell_type": "markdown",
   "metadata": {},
   "source": [
    "# Model Selection, Training, and Evaluation"
   ]
  },
  {
   "cell_type": "code",
   "execution_count": null,
   "metadata": {},
   "outputs": [],
   "source": [
    "# Initialize models\n",
    "models = {\n",
    "    'Logistic Regression': LogisticRegression(max_iter=1000),\n",
    "    'Decision Tree': DecisionTreeClassifier(),\n",
    "    'Random Forest': RandomForestClassifier(),\n",
    "    'Gradient Boosting': GradientBoostingClassifier(),\n",
    "    'MLP': MLPClassifier(max_iter=1000)\n",
    "}\n",
    "\n",
    "# Train and evaluate models for fraud detection data\n",
    "for name, model in models.items():\n",
    "    with mlflow.start_run(run_name=f'{name} on Fraud Data'):\n",
    "        model.fit(X_train_fraud, y_train_fraud)\n",
    "        y_pred = model.predict(X_test_fraud)\n",
    "        accuracy = accuracy_score(y_test_fraud, y_pred)\n",
    "        \n",
    "        # Log parameters and metrics\n",
    "        mlflow.log_params({\n",
    "            'model': name,\n",
    "            'dataset': 'Fraud Data',\n",
    "            'test_size': 0.2,\n",
    "            'random_state': 42\n",
    "        })\n",
    "        mlflow.log_metric('accuracy', accuracy)\n",
    "        \n",
    "        # Save the model\n",
    "        mlflow.sklearn.log_model(model, f'{name}_model')\n",
    "        \n",
    "        # Print and log classification report\n",
    "        print(f\"Model: {name}\")\n",
    "        print(f\"Accuracy: {accuracy}\")\n",
    "        print(classification_report(y_test_fraud, y_pred))\n",
    "        print(\"=\"*60)"
   ]
  },
  {
   "cell_type": "code",
   "execution_count": null,
   "metadata": {},
   "outputs": [],
   "source": [
    "# Train and evaluate models for credit card data\n",
    "for name, model in models.items():\n",
    "    with mlflow.start_run(run_name=f'{name} on Credit Card Data'):\n",
    "        model.fit(X_train_credit, y_train_credit)\n",
    "        y_pred = model.predict(X_test_credit)\n",
    "        accuracy = accuracy_score(y_test_credit, y_pred)\n",
    "        \n",
    "        # Log parameters and metrics\n",
    "        mlflow.log_params({\n",
    "            'model': name,\n",
    "            'dataset': 'Credit Card Data',\n",
    "            'test_size': 0.2,\n",
    "            'random_state': 42\n",
    "        })\n",
    "        mlflow.log_metric('accuracy', accuracy)\n",
    "        \n",
    "        # Save the model\n",
    "        mlflow.sklearn.log_model(model, f'{name}_model')\n",
    "        \n",
    "        # Print and log classification report\n",
    "        print(f\"Model: {name}\")\n",
    "        print(f\"Accuracy: {accuracy}\")\n",
    "        print(classification_report(y_test_credit, y_pred))\n",
    "        print(\"=\"*60)"
   ]
  }
 ],
 "metadata": {
  "kernelspec": {
   "display_name": ".venv",
   "language": "python",
   "name": "python3"
  },
  "language_info": {
   "codemirror_mode": {
    "name": "ipython",
    "version": 3
   },
   "file_extension": ".py",
   "mimetype": "text/x-python",
   "name": "python",
   "nbconvert_exporter": "python",
   "pygments_lexer": "ipython3",
   "version": "3.12.2"
  }
 },
 "nbformat": 4,
 "nbformat_minor": 2
}
