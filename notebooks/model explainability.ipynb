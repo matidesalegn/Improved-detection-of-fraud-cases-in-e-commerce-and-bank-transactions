{
 "cells": [
  {
   "cell_type": "markdown",
   "metadata": {},
   "source": [
    "# Load the processed dataset"
   ]
  },
  {
   "cell_type": "code",
   "execution_count": 1,
   "metadata": {},
   "outputs": [
    {
     "name": "stderr",
     "output_type": "stream",
     "text": [
      "d:\\Improved detection of fraud cases in e-commerce and bank transactions\\.venv\\Lib\\site-packages\\tqdm\\auto.py:21: TqdmWarning: IProgress not found. Please update jupyter and ipywidgets. See https://ipywidgets.readthedocs.io/en/stable/user_install.html\n",
      "  from .autonotebook import tqdm as notebook_tqdm\n"
     ]
    }
   ],
   "source": [
    "import pandas as pd\n",
    "from sklearn.model_selection import train_test_split\n",
    "from sklearn.ensemble import RandomForestClassifier\n",
    "import joblib\n",
    "import shap\n",
    "import lime\n",
    "import lime.lime_tabular\n",
    "import matplotlib.pyplot as plt\n",
    "\n",
    "# Load processed data\n",
    "fraud_data = pd.read_csv('../data/processed/processed_fraud_data_with_country.csv')\n",
    "credit_card_data = pd.read_csv('../data/processed/processed_credit_card_data.csv')"
   ]
  },
  {
   "cell_type": "markdown",
   "metadata": {},
   "source": [
    "## Split the data into features and target"
   ]
  },
  {
   "cell_type": "code",
   "execution_count": 2,
   "metadata": {},
   "outputs": [],
   "source": [
    "# Split the data into features and target\n",
    "X_fraud = fraud_data.drop(columns=['class'])\n",
    "y_fraud = fraud_data['class']\n",
    "\n",
    "X_credit = credit_card_data.drop(columns=['Class'])\n",
    "y_credit = credit_card_data['Class']"
   ]
  },
  {
   "cell_type": "markdown",
   "metadata": {},
   "source": [
    "## Split the data into training and test sets"
   ]
  },
  {
   "cell_type": "code",
   "execution_count": 3,
   "metadata": {},
   "outputs": [],
   "source": [
    "# Split the data into training and test sets\n",
    "X_train_fraud, X_test_fraud, y_train_fraud, y_test_fraud = train_test_split(X_fraud, y_fraud, test_size=0.2, random_state=42)\n",
    "X_train_credit, X_test_credit, y_train_credit, y_test_credit = train_test_split(X_credit, y_credit, test_size=0.2, random_state=42)"
   ]
  },
  {
   "cell_type": "markdown",
   "metadata": {},
   "source": [
    "## Loading Pre-trained Models\n",
    "Assuming you have already trained and saved your models in the specified directories (notebooks/models/fraud_data/ and notebooks/models/credit_card_data/):"
   ]
  },
  {
   "cell_type": "code",
   "execution_count": 5,
   "metadata": {},
   "outputs": [],
   "source": [
    "# Load pre-trained fraud detection model\n",
    "fraud_model_path = './models/fraud_data/random_forest_model.joblib'\n",
    "fraud_model = joblib.load(fraud_model_path)\n",
    "\n",
    "# Load pre-trained credit card default prediction model\n",
    "credit_model_path = './models/credit_card_data/random_forest_model.joblib'\n",
    "credit_model = joblib.load(credit_model_path)"
   ]
  },
  {
   "cell_type": "markdown",
   "metadata": {},
   "source": [
    "# Model Explainability with SHAP and LIME\n",
    "Assuming you have already defined your test sets (X_test_fraud, X_test_credit) and imported necessary libraries (shap, lime, matplotlib.pyplot):\n",
    "\n",
    "## SHAP Explainability"
   ]
  },
  {
   "cell_type": "code",
   "execution_count": 6,
   "metadata": {},
   "outputs": [],
   "source": [
    "# Ensure test data is only numeric for SHAP explainability\n",
    "X_test_fraud_numeric = X_test_fraud.select_dtypes(include=['number'])\n",
    "X_test_credit_numeric = X_test_credit.select_dtypes(include=['number'])"
   ]
  },
  {
   "cell_type": "code",
   "execution_count": 7,
   "metadata": {},
   "outputs": [],
   "source": [
    "# SHAP explainability for fraud model\n",
    "explainer_shap_fraud = shap.TreeExplainer(fraud_model)\n",
    "shap_values_fraud = explainer_shap_fraud.shap_values(X_test_fraud_numeric)\n",
    "\n",
    "# SHAP summary plot for fraud model\n",
    "shap.summary_plot(shap_values_fraud, X_test_fraud_numeric)\n",
    "plt.show()"
   ]
  },
  {
   "cell_type": "code",
   "execution_count": null,
   "metadata": {},
   "outputs": [],
   "source": [
    "# SHAP force plot for the first instance in the fraud test set\n",
    "shap.force_plot(explainer_shap_fraud.expected_value[1], shap_values_fraud[1][0], X_test_fraud_numeric.iloc[0])\n",
    "\n",
    "# SHAP dependence plot for a specific feature, e.g., 'feature_name'\n",
    "shap.dependence_plot('feature_name', shap_values_fraud[1], X_test_fraud_numeric)\n",
    "plt.show()"
   ]
  },
  {
   "cell_type": "code",
   "execution_count": null,
   "metadata": {},
   "outputs": [],
   "source": [
    "# SHAP explainability for credit card model\n",
    "explainer_shap_credit = shap.TreeExplainer(credit_model)\n",
    "shap_values_credit = explainer_shap_credit.shap_values(X_test_credit_numeric)\n",
    "\n",
    "# SHAP summary plot for credit card model\n",
    "shap.summary_plot(shap_values_credit, X_test_credit_numeric)\n",
    "plt.show()"
   ]
  },
  {
   "cell_type": "code",
   "execution_count": null,
   "metadata": {},
   "outputs": [],
   "source": [
    "# SHAP force plot for the first instance in the credit card test set\n",
    "shap.force_plot(explainer_shap_credit.expected_value[1], shap_values_credit[1][0], X_test_credit_numeric.iloc[0])\n",
    "\n",
    "# SHAP dependence plot for a specific feature, e.g., 'feature_name'\n",
    "shap.dependence_plot('feature_name', shap_values_credit[1], X_test_credit_numeric)\n",
    "plt.show()"
   ]
  },
  {
   "cell_type": "markdown",
   "metadata": {},
   "source": [
    "## LIME Explainability"
   ]
  },
  {
   "cell_type": "code",
   "execution_count": null,
   "metadata": {},
   "outputs": [],
   "source": [
    "# LIME explainability for fraud model\n",
    "explainer_lime_fraud = lime.lime_tabular.LimeTabularExplainer(X_train_fraud.values, feature_names=X_train_fraud.columns, class_names=['Not Fraud', 'Fraud'], discretize_continuous=True)\n",
    "\n",
    "# Explain the prediction for the first instance in the fraud test set\n",
    "i = 0\n",
    "exp_fraud = explainer_lime_fraud.explain_instance(X_test_fraud_numeric.iloc[i].values, fraud_model.predict_proba, num_features=10)\n",
    "\n",
    "# Show the explanation in a notebook\n",
    "exp_fraud.show_in_notebook(show_all=False)\n",
    "\n",
    "# LIME feature importance plot for fraud model\n",
    "exp_fraud.as_pyplot_figure()\n",
    "plt.show()"
   ]
  },
  {
   "cell_type": "code",
   "execution_count": null,
   "metadata": {},
   "outputs": [],
   "source": [
    "# LIME explainability for credit card model\n",
    "explainer_lime_credit = lime.lime_tabular.LimeTabularExplainer(X_train_credit.values, feature_names=X_train_credit.columns, class_names=['Class 0', 'Class 1'], discretize_continuous=True)\n",
    "\n",
    "# Explain the prediction for the first instance in the credit card test set\n",
    "i = 0\n",
    "exp_credit = explainer_lime_credit.explain_instance(X_test_credit_numeric.iloc[i].values, credit_model.predict_proba, num_features=10)\n",
    "\n",
    "# Show the explanation in a notebook\n",
    "exp_credit.show_in_notebook(show_all=False)\n",
    "\n",
    "# LIME feature importance plot for credit card model\n",
    "exp_credit.as_pyplot_figure()\n",
    "plt.show()"
   ]
  }
 ],
 "metadata": {
  "kernelspec": {
   "display_name": ".venv",
   "language": "python",
   "name": "python3"
  },
  "language_info": {
   "codemirror_mode": {
    "name": "ipython",
    "version": 3
   },
   "file_extension": ".py",
   "mimetype": "text/x-python",
   "name": "python",
   "nbconvert_exporter": "python",
   "pygments_lexer": "ipython3",
   "version": "3.12.2"
  }
 },
 "nbformat": 4,
 "nbformat_minor": 2
}
