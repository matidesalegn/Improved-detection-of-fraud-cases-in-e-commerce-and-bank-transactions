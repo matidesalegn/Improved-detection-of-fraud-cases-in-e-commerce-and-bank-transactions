{
  "cells": [
    {
      "cell_type": "markdown",
      "metadata": {
        "id": "view-in-github",
        "colab_type": "text"
      },
      "source": [
        "<a href=\"https://colab.research.google.com/github/matidesalegn/Improved-detection-of-fraud-cases-in-e-commerce-and-bank-transactions/blob/task-3/notebooks/model%20explainability.ipynb\" target=\"_parent\"><img src=\"https://colab.research.google.com/assets/colab-badge.svg\" alt=\"Open In Colab\"/></a>"
      ]
    },
    {
      "cell_type": "markdown",
      "metadata": {
        "id": "Sh4wm4IqEisJ"
      },
      "source": [
        "# Load the processed dataset"
      ]
    },
    {
      "cell_type": "code",
      "source": [
        "import pandas as pd\n",
        "from sklearn.model_selection import train_test_split\n",
        "from sklearn.ensemble import RandomForestClassifier\n",
        "import joblib\n",
        "import shap\n",
        "import lime\n",
        "import lime.lime_tabular\n",
        "import matplotlib.pyplot as plt\n",
        "\n",
        "# Load processed data\n",
        "fraud_data = pd.read_csv('processed/processed_fraud_data_with_country.csv', low_memory=False)\n",
        "credit_card_data = pd.read_csv('processed/processed_credit_card_data.csv')\n"
      ],
      "metadata": {
        "id": "82NEH-E-Qkko"
      },
      "execution_count": 10,
      "outputs": []
    },
    {
      "cell_type": "markdown",
      "metadata": {
        "id": "yjG1xx7LEisQ"
      },
      "source": [
        "## Convert or Drop Non-numeric Columns And Split the data into features and target"
      ]
    },
    {
      "cell_type": "code",
      "execution_count": 11,
      "metadata": {
        "id": "1FI9eNXbEisR"
      },
      "outputs": [],
      "source": [
        "# Convert date-time columns to numeric (timestamp)\n",
        "fraud_data['signup_time'] = pd.to_datetime(fraud_data['signup_time']).astype(int) / 10**9\n",
        "fraud_data['purchase_time'] = pd.to_datetime(fraud_data['purchase_time']).astype(int) / 10**9\n",
        "\n",
        "# Ensure all columns are numeric\n",
        "X_fraud = fraud_data.drop(columns=['class'])\n",
        "y_fraud = fraud_data['class']\n",
        "\n",
        "# Drop any remaining non-numeric columns (e.g., 'user_id', 'device_id', 'ip_address')\n",
        "X_fraud = X_fraud.select_dtypes(include=['number'])\n",
        "\n",
        "# Similarly handle the credit card data if necessary (though the provided columns are already numeric)\n",
        "X_credit = credit_card_data.drop(columns=['Class'])\n",
        "y_credit = credit_card_data['Class']\n",
        "\n",
        "# Ensure all columns are numeric for the credit card data\n",
        "X_credit = X_credit.select_dtypes(include=['number'])\n",
        "\n",
        "# Split the data into training and test sets\n",
        "X_train_fraud, X_test_fraud, y_train_fraud, y_test_fraud = train_test_split(X_fraud, y_fraud, test_size=0.2, random_state=42)\n",
        "X_train_credit, X_test_credit, y_train_credit, y_test_credit = train_test_split(X_credit, y_credit, test_size=0.2, random_state=42)\n"
      ]
    },
    {
      "cell_type": "markdown",
      "source": [
        " ## Train and Save the **Models**"
      ],
      "metadata": {
        "id": "Kfda-EZ-SI9g"
      }
    },
    {
      "cell_type": "code",
      "source": [
        "# Train the model for fraud detection\n",
        "fraud_model = RandomForestClassifier(random_state=42)\n",
        "fraud_model.fit(X_train_fraud, y_train_fraud)\n",
        "\n",
        "# Save the fraud model\n",
        "joblib.dump(fraud_model, 'models/fraud_data/random_forest_model.joblib')\n",
        "\n",
        "# Train the model for credit card default prediction\n",
        "credit_model = RandomForestClassifier(random_state=42)\n",
        "credit_model.fit(X_train_credit, y_train_credit)\n",
        "\n",
        "# Save the credit card model\n",
        "joblib.dump(credit_model, 'models/credit_card_data/random_forest_model.joblib')\n"
      ],
      "metadata": {
        "id": "w6-CJZ94RrgB"
      },
      "execution_count": null,
      "outputs": []
    },
    {
      "cell_type": "markdown",
      "source": [
        "## Model Explainability with SHAP and LIME"
      ],
      "metadata": {
        "id": "LO78tub9STd4"
      }
    },
    {
      "cell_type": "code",
      "source": [
        "# Load your trained model for fraud detection\n",
        "fraud_model = joblib.load('models/fraud_data/random_forest_model.joblib')\n",
        "\n",
        "# Ensure test data is only numeric for SHAP explainability\n",
        "X_test_fraud_numeric = X_test_fraud.select_dtypes(include=['number'])\n",
        "X_test_credit_numeric = X_test_credit.select_dtypes(include=['number'])\n",
        "\n",
        "# SHAP explainability for fraud model\n",
        "explainer_shap_fraud = shap.TreeExplainer(fraud_model)\n",
        "shap_values_fraud = explainer_shap_fraud.shap_values(X_test_fraud_numeric)\n",
        "\n",
        "# SHAP summary plot for fraud model\n",
        "shap.summary_plot(shap_values_fraud, X_test_fraud_numeric)\n",
        "plt.show()\n",
        "\n",
        "# SHAP force plot for the first instance in the fraud test set\n",
        "shap.force_plot(explainer_shap_fraud.expected_value[1], shap_values_fraud[1][0], X_test_fraud_numeric.iloc[0])\n",
        "\n",
        "# SHAP dependence plot for a specific feature, e.g., 'feature_name'\n",
        "shap.dependence_plot('feature_name', shap_values_fraud[1], X_test_fraud_numeric)\n",
        "plt.show()\n",
        "\n",
        "# SHAP explainability for credit card model\n",
        "explainer_shap_credit = shap.TreeExplainer(credit_model)\n",
        "shap_values_credit = explainer_shap_credit.shap_values(X_test_credit_numeric)\n",
        "\n",
        "# SHAP summary plot for credit card model\n",
        "shap.summary_plot(shap_values_credit, X_test_credit_numeric)\n",
        "plt.show()\n",
        "\n",
        "# SHAP force plot for the first instance in the credit card test set\n",
        "shap.force_plot(explainer_shap_credit.expected_value[1], shap_values_credit[1][0], X_test_credit_numeric.iloc[0])\n",
        "\n",
        "# SHAP dependence plot for a specific feature, e.g., 'feature_name'\n",
        "shap.dependence_plot('feature_name', shap_values_credit[1], X_test_credit_numeric)\n",
        "plt.show()\n",
        "\n",
        "# LIME explainability for fraud model\n",
        "explainer_lime_fraud = lime.lime_tabular.LimeTabularExplainer(X_train_fraud.values, feature_names=X_train_fraud.columns, class_names=['Not Fraud', 'Fraud'], discretize_continuous=True)\n",
        "\n",
        "# Explain the prediction for the first instance in the fraud test set\n",
        "i = 0\n",
        "exp_fraud = explainer_lime_fraud.explain_instance(X_test_fraud_numeric.iloc[i].values, fraud_model.predict_proba, num_features=10)\n",
        "\n",
        "# Show the explanation in a notebook\n",
        "exp_fraud.show_in_notebook(show_all=False)\n",
        "\n",
        "# LIME feature importance plot for fraud model\n",
        "exp_fraud.as_pyplot_figure()\n",
        "plt.show()\n",
        "\n",
        "# LIME explainability for credit card model\n",
        "explainer_lime_credit = lime.lime_tabular.LimeTabularExplainer(X_train_credit.values, feature_names=X_train_credit.columns, class_names=['Class 0', 'Class 1'], discretize_continuous=True)\n",
        "\n",
        "# Explain the prediction for the first instance in the credit card test set\n",
        "i = 0\n",
        "exp_credit = explainer_lime_credit.explain_instance(X_test_credit_numeric.iloc[i].values, credit_model.predict_proba, num_features=10)\n",
        "\n",
        "# Show the explanation in a notebook\n",
        "exp_credit.show_in_notebook(show_all=False)\n",
        "\n",
        "# LIME feature importance plot for credit card model\n",
        "exp_credit.as_pyplot_figure()\n",
        "plt.show()"
      ],
      "metadata": {
        "id": "A-B6nvRTRttI"
      },
      "execution_count": null,
      "outputs": []
    }
  ],
  "metadata": {
    "kernelspec": {
      "display_name": ".venv",
      "language": "python",
      "name": "python3"
    },
    "language_info": {
      "codemirror_mode": {
        "name": "ipython",
        "version": 3
      },
      "file_extension": ".py",
      "mimetype": "text/x-python",
      "name": "python",
      "nbconvert_exporter": "python",
      "pygments_lexer": "ipython3",
      "version": "3.12.2"
    },
    "colab": {
      "provenance": [],
      "include_colab_link": true
    }
  },
  "nbformat": 4,
  "nbformat_minor": 0
}