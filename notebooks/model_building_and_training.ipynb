{
  "cells": [
    {
      "cell_type": "markdown",
      "metadata": {
        "colab_type": "text",
        "id": "view-in-github"
      },
      "source": [
        "<a href=\"https://colab.research.google.com/github/matidesalegn/Improved-detection-of-fraud-cases-in-e-commerce-and-bank-transactions/blob/task-2/models/model_building_and_training.ipynb\" target=\"_parent\"><img src=\"https://colab.research.google.com/assets/colab-badge.svg\" alt=\"Open In Colab\"/></a>"
      ]
    },
    {
      "cell_type": "markdown",
      "metadata": {
        "id": "dGSoaggxpLFf"
      },
      "source": [
        "# Data Preparation"
      ]
    },
    {
      "cell_type": "markdown",
      "metadata": {},
      "source": [
        "### Load Processed Data\n",
        "### First, let's load the processed data for both datasets:\n",
        "\n",
        "### Processed Fraud Data with Country: ../data/processed/processed_fraud_data_with_country.csv\n",
        "### Processed Credit Card Data: ../data/processed/processed_credit_card_data.csv"
      ]
    },
    {
      "cell_type": "code",
      "execution_count": 11,
      "metadata": {
        "colab": {
          "base_uri": "https://localhost:8080/"
        },
        "id": "6Ehz_GXwpLFh",
        "outputId": "0df33b53-8059-4db7-aa5b-3f268f5b258a"
      },
      "outputs": [
        {
          "name": "stderr",
          "output_type": "stream",
          "text": [
            "2024-06-24 22:27:55,754 - INFO - Directories created for saving models\n"
          ]
        }
      ],
      "source": [
        "import pandas as pd\n",
        "from sklearn.model_selection import train_test_split\n",
        "from sklearn.linear_model import LogisticRegression\n",
        "from sklearn.tree import DecisionTreeClassifier\n",
        "from sklearn.ensemble import RandomForestClassifier, GradientBoostingClassifier\n",
        "from sklearn.neural_network import MLPClassifier\n",
        "from sklearn.metrics import classification_report, accuracy_score\n",
        "import mlflow\n",
        "import mlflow.sklearn\n",
        "from sklearn.preprocessing import StandardScaler\n",
        "from sklearn.impute import SimpleImputer\n",
        "import numpy as np\n",
        "from scipy import sparse\n",
        "import joblib\n",
        "import os\n",
        "import logging\n",
        "\n",
        "# Configure logger\n",
        "logging.basicConfig(level=logging.INFO, format='%(asctime)s - %(levelname)s - %(message)s')\n",
        "logger = logging.getLogger()\n",
        "\n",
        "# Create directories if not exist\n",
        "os.makedirs('models/fraud', exist_ok=True)\n",
        "os.makedirs('models/credit', exist_ok=True)\n",
        "\n",
        "logger.info(\"Directories created for saving models\")\n",
        "\n",
        "# Load processed data\n",
        "fraud_data = pd.read_csv('../data/processed/processed_fraud_data_with_country.csv')\n",
        "credit_card_data = pd.read_csv('../data/processed/processed_credit_card_data.csv')\n",
        "\n",
        "# Ensure datetime columns are correctly parsed\n",
        "fraud_data['signup_time'] = pd.to_datetime(fraud_data['signup_time'])\n",
        "fraud_data['purchase_time'] = pd.to_datetime(fraud_data['purchase_time'])\n",
        "\n",
        "# Feature Engineering for fraud_data\n",
        "fraud_data['signup_hour'] = fraud_data['signup_time'].dt.hour\n",
        "fraud_data['signup_day'] = fraud_data['signup_time'].dt.day\n",
        "fraud_data['signup_month'] = fraud_data['signup_time'].dt.month\n",
        "fraud_data['signup_year'] = fraud_data['signup_time'].dt.year\n",
        "\n",
        "fraud_data['purchase_hour'] = fraud_data['purchase_time'].dt.hour\n",
        "fraud_data['purchase_day'] = fraud_data['purchase_time'].dt.day\n",
        "fraud_data['purchase_month'] = fraud_data['purchase_time'].dt.month\n",
        "fraud_data['purchase_year'] = fraud_data['purchase_time'].dt.year\n",
        "\n",
        "# Drop original datetime columns\n",
        "fraud_data = fraud_data.drop(columns=['signup_time', 'purchase_time'])\n",
        "\n",
        "# Identify categorical columns\n",
        "categorical_columns = fraud_data.select_dtypes(include=['object']).columns.tolist()\n",
        "\n",
        "# Frequency Encoding of categorical features\n",
        "for col in categorical_columns:\n",
        "    freq_encoding = fraud_data[col].value_counts().to_dict()\n",
        "    fraud_data[col] = fraud_data[col].map(freq_encoding)\n",
        "\n",
        "# Convert data types to more memory efficient types\n",
        "for col in fraud_data.select_dtypes(include=['int64']).columns:\n",
        "    fraud_data[col] = fraud_data[col].astype('int32')\n",
        "for col in fraud_data.select_dtypes(include=['float64']).columns:\n",
        "    fraud_data[col] = fraud_data[col].astype('float32')\n",
        "\n",
        "# Feature and target separation for fraud detection data\n",
        "X_fraud = fraud_data.drop(columns=['class'])\n",
        "y_fraud = fraud_data['class']\n",
        "\n",
        "# Feature and target separation for credit card data\n",
        "X_credit = credit_card_data.drop(columns=['Class'])\n",
        "y_credit = credit_card_data['Class']\n",
        "\n",
        "# Handle missing values in features\n",
        "imputer = SimpleImputer(strategy='mean')\n",
        "X_fraud = imputer.fit_transform(X_fraud)\n",
        "X_credit = imputer.fit_transform(X_credit)\n",
        "\n",
        "# Convert X_fraud to a sparse matrix\n",
        "X_fraud_sparse = sparse.csr_matrix(X_fraud)\n",
        "\n",
        "# Handle missing values in target variables\n",
        "y_fraud = y_fraud.fillna(y_fraud.mode()[0])\n",
        "y_credit = y_credit.fillna(y_credit.mode()[0])\n",
        "\n",
        "# Train-test split for fraud data\n",
        "X_train_fraud, X_test_fraud, y_train_fraud, y_test_fraud = train_test_split(X_fraud_sparse, y_fraud, test_size=0.2, random_state=42)\n",
        "\n",
        "# Train-test split for credit card data\n",
        "X_train_credit, X_test_credit, y_train_credit, y_test_credit = train_test_split(X_credit, y_credit, test_size=0.2, random_state=42)"
      ]
    },
    {
      "cell_type": "markdown",
      "metadata": {
        "id": "tSxAMbnZpLFj"
      },
      "source": [
        "# Model Selection, Training, and Evaluation"
      ]
    },
    {
      "cell_type": "markdown",
      "metadata": {},
      "source": [
        "### We'll use several models to compare their performance:\n",
        "\n",
        "### Logistic Regression\n",
        "### Decision Tree\n",
        "### Random Forest\n",
        "### Gradient Boosting\n",
        "### Multi-Layer Perceptron (MLP)\n",
        "### Convolutional Neural Network (CNN) (for credit card data)\n",
        "### Recurrent Neural Network (RNN) or LSTM (for fraud detection data)"
      ]
    },
    {
      "cell_type": "markdown",
      "metadata": {},
      "source": [
        "### Model Training and Evaluation\n",
        "### Train and Evaluate Models\n",
        "### Here's how you might train and evaluate models for the fraud detection dataset (X_train_fraud, y_train_fraud, X_test_fraud, y_test_fraud). Repeat a similar process for the credit card dataset."
      ]
    },
    {
      "cell_type": "code",
      "execution_count": 12,
      "metadata": {
        "colab": {
          "base_uri": "https://localhost:8080/"
        },
        "id": "QO7yaHSupLFj",
        "outputId": "f80d6fc2-709c-4aab-f840-3739d6bb3e62"
      },
      "outputs": [
        {
          "name": "stderr",
          "output_type": "stream",
          "text": [
            "2024-06-24 22:28:28,516 - INFO - Model Logistic Regression for Fraud Data saved to models/fraud_data/logistic_regression_model.joblib\n",
            "d:\\Improved detection of fraud cases in e-commerce and bank transactions\\.venv\\Lib\\site-packages\\sklearn\\metrics\\_classification.py:1517: UndefinedMetricWarning: Precision is ill-defined and being set to 0.0 in labels with no predicted samples. Use `zero_division` parameter to control this behavior.\n",
            "  _warn_prf(average, modifier, f\"{metric.capitalize()} is\", len(result))\n",
            "d:\\Improved detection of fraud cases in e-commerce and bank transactions\\.venv\\Lib\\site-packages\\sklearn\\metrics\\_classification.py:1517: UndefinedMetricWarning: Precision is ill-defined and being set to 0.0 in labels with no predicted samples. Use `zero_division` parameter to control this behavior.\n",
            "  _warn_prf(average, modifier, f\"{metric.capitalize()} is\", len(result))\n",
            "d:\\Improved detection of fraud cases in e-commerce and bank transactions\\.venv\\Lib\\site-packages\\sklearn\\metrics\\_classification.py:1517: UndefinedMetricWarning: Precision is ill-defined and being set to 0.0 in labels with no predicted samples. Use `zero_division` parameter to control this behavior.\n",
            "  _warn_prf(average, modifier, f\"{metric.capitalize()} is\", len(result))\n",
            "2024-06-24 22:28:28,542 - INFO - Model: Logistic Regression on Fraud Data\n",
            "2024-06-24 22:28:28,542 - INFO - Accuracy: 0.9057009562253913\n",
            "2024-06-24 22:28:28,542 - INFO -               precision    recall  f1-score   support\n",
            "\n",
            "           0       0.91      1.00      0.95     27373\n",
            "           1       0.00      0.00      0.00      2850\n",
            "\n",
            "    accuracy                           0.91     30223\n",
            "   macro avg       0.45      0.50      0.48     30223\n",
            "weighted avg       0.82      0.91      0.86     30223\n",
            "\n"
          ]
        },
        {
          "name": "stdout",
          "output_type": "stream",
          "text": [
            "Model: Logistic Regression\n",
            "Accuracy: 0.9057009562253913\n",
            "              precision    recall  f1-score   support\n",
            "\n",
            "           0       0.91      1.00      0.95     27373\n",
            "           1       0.00      0.00      0.00      2850\n",
            "\n",
            "    accuracy                           0.91     30223\n",
            "   macro avg       0.45      0.50      0.48     30223\n",
            "weighted avg       0.82      0.91      0.86     30223\n",
            "\n",
            "============================================================\n"
          ]
        },
        {
          "name": "stderr",
          "output_type": "stream",
          "text": [
            "2024-06-24 22:29:01,772 - INFO - Model Decision Tree for Fraud Data saved to models/fraud_data/decision_tree_model.joblib\n",
            "2024-06-24 22:29:01,807 - INFO - Model: Decision Tree on Fraud Data\n",
            "2024-06-24 22:29:01,807 - INFO - Accuracy: 0.9151970353704133\n",
            "2024-06-24 22:29:01,807 - INFO -               precision    recall  f1-score   support\n",
            "\n",
            "           0       0.96      0.95      0.95     27373\n",
            "           1       0.55      0.60      0.57      2850\n",
            "\n",
            "    accuracy                           0.92     30223\n",
            "   macro avg       0.75      0.77      0.76     30223\n",
            "weighted avg       0.92      0.92      0.92     30223\n",
            "\n"
          ]
        },
        {
          "name": "stdout",
          "output_type": "stream",
          "text": [
            "Model: Decision Tree\n",
            "Accuracy: 0.9151970353704133\n",
            "              precision    recall  f1-score   support\n",
            "\n",
            "           0       0.96      0.95      0.95     27373\n",
            "           1       0.55      0.60      0.57      2850\n",
            "\n",
            "    accuracy                           0.92     30223\n",
            "   macro avg       0.75      0.77      0.76     30223\n",
            "weighted avg       0.92      0.92      0.92     30223\n",
            "\n",
            "============================================================\n"
          ]
        },
        {
          "name": "stderr",
          "output_type": "stream",
          "text": [
            "2024-06-24 22:33:24,603 - INFO - Model Random Forest for Fraud Data saved to models/fraud_data/random_forest_model.joblib\n",
            "2024-06-24 22:33:24,679 - INFO - Model: Random Forest on Fraud Data\n",
            "2024-06-24 22:33:24,681 - INFO - Accuracy: 0.9564239155609966\n",
            "2024-06-24 22:33:24,681 - INFO -               precision    recall  f1-score   support\n",
            "\n",
            "           0       0.95      1.00      0.98     27373\n",
            "           1       1.00      0.54      0.70      2850\n",
            "\n",
            "    accuracy                           0.96     30223\n",
            "   macro avg       0.98      0.77      0.84     30223\n",
            "weighted avg       0.96      0.96      0.95     30223\n",
            "\n"
          ]
        },
        {
          "name": "stdout",
          "output_type": "stream",
          "text": [
            "Model: Random Forest\n",
            "Accuracy: 0.9564239155609966\n",
            "              precision    recall  f1-score   support\n",
            "\n",
            "           0       0.95      1.00      0.98     27373\n",
            "           1       1.00      0.54      0.70      2850\n",
            "\n",
            "    accuracy                           0.96     30223\n",
            "   macro avg       0.98      0.77      0.84     30223\n",
            "weighted avg       0.96      0.96      0.95     30223\n",
            "\n",
            "============================================================\n"
          ]
        },
        {
          "name": "stderr",
          "output_type": "stream",
          "text": [
            "2024-06-24 22:34:36,584 - INFO - Model Gradient Boosting for Fraud Data saved to models/fraud_data/gradient_boosting_model.joblib\n",
            "2024-06-24 22:34:36,628 - INFO - Model: Gradient Boosting on Fraud Data\n",
            "2024-06-24 22:34:36,628 - INFO - Accuracy: 0.9564570029447772\n",
            "2024-06-24 22:34:36,628 - INFO -               precision    recall  f1-score   support\n",
            "\n",
            "           0       0.95      1.00      0.98     27373\n",
            "           1       1.00      0.54      0.70      2850\n",
            "\n",
            "    accuracy                           0.96     30223\n",
            "   macro avg       0.98      0.77      0.84     30223\n",
            "weighted avg       0.96      0.96      0.95     30223\n",
            "\n"
          ]
        },
        {
          "name": "stdout",
          "output_type": "stream",
          "text": [
            "Model: Gradient Boosting\n",
            "Accuracy: 0.9564570029447772\n",
            "              precision    recall  f1-score   support\n",
            "\n",
            "           0       0.95      1.00      0.98     27373\n",
            "           1       1.00      0.54      0.70      2850\n",
            "\n",
            "    accuracy                           0.96     30223\n",
            "   macro avg       0.98      0.77      0.84     30223\n",
            "weighted avg       0.96      0.96      0.95     30223\n",
            "\n",
            "============================================================\n"
          ]
        },
        {
          "name": "stderr",
          "output_type": "stream",
          "text": [
            "2024-06-24 22:34:58,237 - INFO - Model MLP for Fraud Data saved to models/fraud_data/mlp_model.joblib\n",
            "2024-06-24 22:34:58,261 - INFO - Model: MLP on Fraud Data\n",
            "2024-06-24 22:34:58,261 - INFO - Accuracy: 0.7443337855275783\n",
            "2024-06-24 22:34:58,266 - INFO -               precision    recall  f1-score   support\n",
            "\n",
            "           0       0.94      0.77      0.84     27373\n",
            "           1       0.19      0.52      0.28      2850\n",
            "\n",
            "    accuracy                           0.74     30223\n",
            "   macro avg       0.56      0.64      0.56     30223\n",
            "weighted avg       0.87      0.74      0.79     30223\n",
            "\n"
          ]
        },
        {
          "name": "stdout",
          "output_type": "stream",
          "text": [
            "Model: MLP\n",
            "Accuracy: 0.7443337855275783\n",
            "              precision    recall  f1-score   support\n",
            "\n",
            "           0       0.94      0.77      0.84     27373\n",
            "           1       0.19      0.52      0.28      2850\n",
            "\n",
            "    accuracy                           0.74     30223\n",
            "   macro avg       0.56      0.64      0.56     30223\n",
            "weighted avg       0.87      0.74      0.79     30223\n",
            "\n",
            "============================================================\n"
          ]
        },
        {
          "name": "stderr",
          "output_type": "stream",
          "text": [
            "d:\\Improved detection of fraud cases in e-commerce and bank transactions\\.venv\\Lib\\site-packages\\sklearn\\linear_model\\_logistic.py:469: ConvergenceWarning: lbfgs failed to converge (status=1):\n",
            "STOP: TOTAL NO. of ITERATIONS REACHED LIMIT.\n",
            "\n",
            "Increase the number of iterations (max_iter) or scale the data as shown in:\n",
            "    https://scikit-learn.org/stable/modules/preprocessing.html\n",
            "Please also refer to the documentation for alternative solver options:\n",
            "    https://scikit-learn.org/stable/modules/linear_model.html#logistic-regression\n",
            "  n_iter_i = _check_optimize_result(\n",
            "2024-06-24 22:35:26,992 - INFO - Model Logistic Regression for Credit Card Data saved to models/credit_card_data/logistic_regression_model.joblib\n",
            "2024-06-24 22:35:27,047 - INFO - Model: Logistic Regression on Credit Card Data\n",
            "2024-06-24 22:35:27,047 - INFO - Accuracy: 0.9991893701758714\n",
            "2024-06-24 22:35:27,047 - INFO -               precision    recall  f1-score   support\n",
            "\n",
            "           0       1.00      1.00      1.00     56656\n",
            "           1       0.85      0.59      0.70        90\n",
            "\n",
            "    accuracy                           1.00     56746\n",
            "   macro avg       0.93      0.79      0.85     56746\n",
            "weighted avg       1.00      1.00      1.00     56746\n",
            "\n"
          ]
        },
        {
          "name": "stdout",
          "output_type": "stream",
          "text": [
            "Model: Logistic Regression\n",
            "Accuracy: 0.9991893701758714\n",
            "              precision    recall  f1-score   support\n",
            "\n",
            "           0       1.00      1.00      1.00     56656\n",
            "           1       0.85      0.59      0.70        90\n",
            "\n",
            "    accuracy                           1.00     56746\n",
            "   macro avg       0.93      0.79      0.85     56746\n",
            "weighted avg       1.00      1.00      1.00     56746\n",
            "\n",
            "============================================================\n"
          ]
        },
        {
          "name": "stderr",
          "output_type": "stream",
          "text": [
            "2024-06-24 22:35:57,562 - INFO - Model Decision Tree for Credit Card Data saved to models/credit_card_data/decision_tree_model.joblib\n",
            "2024-06-24 22:35:57,628 - INFO - Model: Decision Tree on Credit Card Data\n",
            "2024-06-24 22:35:57,628 - INFO - Accuracy: 0.9989955239135798\n",
            "2024-06-24 22:35:57,628 - INFO -               precision    recall  f1-score   support\n",
            "\n",
            "           0       1.00      1.00      1.00     56656\n",
            "           1       0.67      0.73      0.70        90\n",
            "\n",
            "    accuracy                           1.00     56746\n",
            "   macro avg       0.83      0.87      0.85     56746\n",
            "weighted avg       1.00      1.00      1.00     56746\n",
            "\n"
          ]
        },
        {
          "name": "stdout",
          "output_type": "stream",
          "text": [
            "Model: Decision Tree\n",
            "Accuracy: 0.9989955239135798\n",
            "              precision    recall  f1-score   support\n",
            "\n",
            "           0       1.00      1.00      1.00     56656\n",
            "           1       0.67      0.73      0.70        90\n",
            "\n",
            "    accuracy                           1.00     56746\n",
            "   macro avg       0.83      0.87      0.85     56746\n",
            "weighted avg       1.00      1.00      1.00     56746\n",
            "\n",
            "============================================================\n"
          ]
        },
        {
          "name": "stderr",
          "output_type": "stream",
          "text": [
            "2024-06-24 22:40:50,335 - INFO - Model Random Forest for Credit Card Data saved to models/credit_card_data/random_forest_model.joblib\n",
            "2024-06-24 22:40:50,390 - INFO - Model: Random Forest on Credit Card Data\n",
            "2024-06-24 22:40:50,391 - INFO - Accuracy: 0.9995241955380115\n",
            "2024-06-24 22:40:50,391 - INFO -               precision    recall  f1-score   support\n",
            "\n",
            "           0       1.00      1.00      1.00     56656\n",
            "           1       0.98      0.71      0.83        90\n",
            "\n",
            "    accuracy                           1.00     56746\n",
            "   macro avg       0.99      0.86      0.91     56746\n",
            "weighted avg       1.00      1.00      1.00     56746\n",
            "\n"
          ]
        },
        {
          "name": "stdout",
          "output_type": "stream",
          "text": [
            "Model: Random Forest\n",
            "Accuracy: 0.9995241955380115\n",
            "              precision    recall  f1-score   support\n",
            "\n",
            "           0       1.00      1.00      1.00     56656\n",
            "           1       0.98      0.71      0.83        90\n",
            "\n",
            "    accuracy                           1.00     56746\n",
            "   macro avg       0.99      0.86      0.91     56746\n",
            "weighted avg       1.00      1.00      1.00     56746\n",
            "\n",
            "============================================================\n"
          ]
        },
        {
          "name": "stderr",
          "output_type": "stream",
          "text": [
            "2024-06-24 22:46:34,957 - INFO - Model Gradient Boosting for Credit Card Data saved to models/credit_card_data/gradient_boosting_model.joblib\n",
            "2024-06-24 22:46:35,006 - INFO - Model: Gradient Boosting on Credit Card Data\n",
            "2024-06-24 22:46:35,006 - INFO - Accuracy: 0.9992951045007578\n",
            "2024-06-24 22:46:35,006 - INFO -               precision    recall  f1-score   support\n",
            "\n",
            "           0       1.00      1.00      1.00     56656\n",
            "           1       0.89      0.63      0.74        90\n",
            "\n",
            "    accuracy                           1.00     56746\n",
            "   macro avg       0.95      0.82      0.87     56746\n",
            "weighted avg       1.00      1.00      1.00     56746\n",
            "\n"
          ]
        },
        {
          "name": "stdout",
          "output_type": "stream",
          "text": [
            "Model: Gradient Boosting\n",
            "Accuracy: 0.9992951045007578\n",
            "              precision    recall  f1-score   support\n",
            "\n",
            "           0       1.00      1.00      1.00     56656\n",
            "           1       0.89      0.63      0.74        90\n",
            "\n",
            "    accuracy                           1.00     56746\n",
            "   macro avg       0.95      0.82      0.87     56746\n",
            "weighted avg       1.00      1.00      1.00     56746\n",
            "\n",
            "============================================================\n"
          ]
        },
        {
          "name": "stderr",
          "output_type": "stream",
          "text": [
            "2024-06-24 22:47:22,855 - INFO - Model MLP for Credit Card Data saved to models/credit_card_data/mlp_model.joblib\n",
            "2024-06-24 22:47:22,901 - INFO - Model: MLP on Credit Card Data\n",
            "2024-06-24 22:47:22,902 - INFO - Accuracy: 0.9982906284143376\n",
            "2024-06-24 22:47:22,902 - INFO -               precision    recall  f1-score   support\n",
            "\n",
            "           0       1.00      1.00      1.00     56656\n",
            "           1       0.35      0.09      0.14        90\n",
            "\n",
            "    accuracy                           1.00     56746\n",
            "   macro avg       0.67      0.54      0.57     56746\n",
            "weighted avg       1.00      1.00      1.00     56746\n",
            "\n"
          ]
        },
        {
          "name": "stdout",
          "output_type": "stream",
          "text": [
            "Model: MLP\n",
            "Accuracy: 0.9982906284143376\n",
            "              precision    recall  f1-score   support\n",
            "\n",
            "           0       1.00      1.00      1.00     56656\n",
            "           1       0.35      0.09      0.14        90\n",
            "\n",
            "    accuracy                           1.00     56746\n",
            "   macro avg       0.67      0.54      0.57     56746\n",
            "weighted avg       1.00      1.00      1.00     56746\n",
            "\n",
            "============================================================\n"
          ]
        }
      ],
      "source": [
        "# Initialize models\n",
        "models = {\n",
        "    'Logistic Regression': LogisticRegression(max_iter=1000),\n",
        "    'Decision Tree': DecisionTreeClassifier(),\n",
        "    'Random Forest': RandomForestClassifier(),\n",
        "    'Gradient Boosting': GradientBoostingClassifier(),\n",
        "    'MLP': MLPClassifier(max_iter=1000)\n",
        "}\n",
        "\n",
        "# Function to train and evaluate models\n",
        "def train_and_evaluate_model(model, X_train, y_train, X_test, y_test, dataset_name, model_name):\n",
        "    with mlflow.start_run(run_name=f'{model_name} on {dataset_name}'):\n",
        "        model.fit(X_train, y_train)\n",
        "        y_pred = model.predict(X_test)\n",
        "        accuracy = accuracy_score(y_test, y_pred)\n",
        "\n",
        "        # Log parameters and metrics\n",
        "        mlflow.log_params({\n",
        "            'model': model_name,\n",
        "            'dataset': dataset_name,\n",
        "            'test_size': 0.2,\n",
        "            'random_state': 42\n",
        "        })\n",
        "        mlflow.log_metric('accuracy', accuracy)\n",
        "\n",
        "        # Save the model with mlflow\n",
        "        mlflow.sklearn.log_model(model, f'{model_name}_model')\n",
        "\n",
        "        # Form path without spaces\n",
        "        dataset_path = dataset_name.lower().replace(' ', '_')\n",
        "        model_path = model_name.lower().replace(' ', '_').replace(' ', '_')\n",
        "        local_model_path = f\"models/{dataset_path}/{model_path}_model.joblib\"\n",
        "\n",
        "        # Ensure directory exists\n",
        "        os.makedirs(f\"models/{dataset_path}\", exist_ok=True)\n",
        "        joblib.dump(model, local_model_path)\n",
        "        logger.info(f\"Model {model_name} for {dataset_name} saved to {local_model_path}\")\n",
        "\n",
        "        # Print and log classification report\n",
        "        report = classification_report(y_test, y_pred)\n",
        "        logger.info(f\"Model: {model_name} on {dataset_name}\")\n",
        "        logger.info(f\"Accuracy: {accuracy}\")\n",
        "        logger.info(report)\n",
        "        print(f\"Model: {model_name}\")\n",
        "        print(f\"Accuracy: {accuracy}\")\n",
        "        print(report)\n",
        "        print(\"=\"*60)\n",
        "\n",
        "# Train and evaluate models for fraud detection data\n",
        "for name, model in models.items():\n",
        "    train_and_evaluate_model(model, X_train_fraud, y_train_fraud, X_test_fraud, y_test_fraud, 'Fraud Data', name)\n",
        "\n",
        "# Train and evaluate models for credit card data\n",
        "for name, model in models.items():\n",
        "    train_and_evaluate_model(model, X_train_credit, y_train_credit, X_test_credit, y_test_credit, 'Credit Card Data', name)"
      ]
    },
    {
      "cell_type": "markdown",
      "metadata": {},
      "source": [
        "# MLOps Steps\n",
        "### Versioning and Experiment Tracking with MLflow\n",
        "### For versioning and experiment tracking, we'll integrate MLflow. Ensure you have MLflow installed (pip install mlflow) and set up in your environment."
      ]
    },
    {
      "cell_type": "code",
      "execution_count": 3,
      "metadata": {
        "colab": {
          "base_uri": "https://localhost:8080/"
        },
        "id": "DwYbibRUpLFk",
        "outputId": "1d116b38-3544-4179-a70c-9baed7752002"
      },
      "outputs": [
        {
          "name": "stderr",
          "output_type": "stream",
          "text": [
            "/usr/local/lib/python3.10/dist-packages/sklearn/linear_model/_logistic.py:458: ConvergenceWarning: lbfgs failed to converge (status=1):\n",
            "STOP: TOTAL NO. of ITERATIONS REACHED LIMIT.\n",
            "\n",
            "Increase the number of iterations (max_iter) or scale the data as shown in:\n",
            "    https://scikit-learn.org/stable/modules/preprocessing.html\n",
            "Please also refer to the documentation for alternative solver options:\n",
            "    https://scikit-learn.org/stable/modules/linear_model.html#logistic-regression\n",
            "  n_iter_i = _check_optimize_result(\n"
          ]
        },
        {
          "name": "stdout",
          "output_type": "stream",
          "text": [
            "Model: Logistic Regression\n",
            "Accuracy: 0.9972533760585947\n",
            "              precision    recall  f1-score   support\n",
            "\n",
            "         0.0       1.00      1.00      1.00      4349\n",
            "         1.0       0.79      0.55      0.65        20\n",
            "\n",
            "    accuracy                           1.00      4369\n",
            "   macro avg       0.89      0.77      0.82      4369\n",
            "weighted avg       1.00      1.00      1.00      4369\n",
            "\n",
            "============================================================\n",
            "Model: Decision Tree\n",
            "Accuracy: 0.9988555733577478\n",
            "              precision    recall  f1-score   support\n",
            "\n",
            "         0.0       1.00      1.00      1.00      4349\n",
            "         1.0       0.89      0.85      0.87        20\n",
            "\n",
            "    accuracy                           1.00      4369\n",
            "   macro avg       0.95      0.92      0.94      4369\n",
            "weighted avg       1.00      1.00      1.00      4369\n",
            "\n",
            "============================================================\n",
            "Model: Random Forest\n",
            "Accuracy: 0.9990844586861982\n",
            "              precision    recall  f1-score   support\n",
            "\n",
            "         0.0       1.00      1.00      1.00      4349\n",
            "         1.0       1.00      0.80      0.89        20\n",
            "\n",
            "    accuracy                           1.00      4369\n",
            "   macro avg       1.00      0.90      0.94      4369\n",
            "weighted avg       1.00      1.00      1.00      4369\n",
            "\n",
            "============================================================\n",
            "Model: Gradient Boosting\n",
            "Accuracy: 0.9983978027008469\n",
            "              precision    recall  f1-score   support\n",
            "\n",
            "         0.0       1.00      1.00      1.00      4349\n",
            "         1.0       0.84      0.80      0.82        20\n",
            "\n",
            "    accuracy                           1.00      4369\n",
            "   macro avg       0.92      0.90      0.91      4369\n",
            "weighted avg       1.00      1.00      1.00      4369\n",
            "\n",
            "============================================================\n",
            "Model: MLP\n",
            "Accuracy: 0.9965667200732433\n",
            "              precision    recall  f1-score   support\n",
            "\n",
            "         0.0       1.00      1.00      1.00      4349\n",
            "         1.0       0.73      0.40      0.52        20\n",
            "\n",
            "    accuracy                           1.00      4369\n",
            "   macro avg       0.86      0.70      0.76      4369\n",
            "weighted avg       1.00      1.00      1.00      4369\n",
            "\n",
            "============================================================\n"
          ]
        }
      ],
      "source": [
        "# Train and evaluate models for credit card data\n",
        "for name, model in models.items():\n",
        "    with mlflow.start_run(run_name=f'{name} on Credit Card Data'):\n",
        "        model.fit(X_train_credit, y_train_credit)\n",
        "        y_pred = model.predict(X_test_credit)\n",
        "        accuracy = accuracy_score(y_test_credit, y_pred)\n",
        "\n",
        "        # Log parameters and metrics\n",
        "        mlflow.log_params({\n",
        "            'model': name,\n",
        "            'dataset': 'Credit Card Data',\n",
        "            'test_size': 0.2,\n",
        "            'random_state': 42\n",
        "        })\n",
        "        mlflow.log_metric('accuracy', accuracy)\n",
        "\n",
        "        # Save the model\n",
        "        mlflow.sklearn.log_model(model, f'{name}_model')\n",
        "\n",
        "        # Print and log classification report\n",
        "        print(f\"Model: {name}\")\n",
        "        print(f\"Accuracy: {accuracy}\")\n",
        "        print(classification_report(y_test_credit, y_pred))\n",
        "        print(\"=\"*60)"
      ]
    }
  ],
  "metadata": {
    "colab": {
      "include_colab_link": true,
      "provenance": []
    },
    "kernelspec": {
      "display_name": ".venv",
      "language": "python",
      "name": "python3"
    },
    "language_info": {
      "codemirror_mode": {
        "name": "ipython",
        "version": 3
      },
      "file_extension": ".py",
      "mimetype": "text/x-python",
      "name": "python",
      "nbconvert_exporter": "python",
      "pygments_lexer": "ipython3",
      "version": "3.12.2"
    }
  },
  "nbformat": 4,
  "nbformat_minor": 0
}
