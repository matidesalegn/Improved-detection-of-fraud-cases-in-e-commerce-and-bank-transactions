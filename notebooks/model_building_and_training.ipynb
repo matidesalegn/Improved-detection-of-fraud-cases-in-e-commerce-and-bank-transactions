{
  "cells": [
    {
      "cell_type": "markdown",
      "metadata": {
        "colab_type": "text",
        "id": "view-in-github"
      },
      "source": [
        "<a href=\"https://colab.research.google.com/github/matidesalegn/Improved-detection-of-fraud-cases-in-e-commerce-and-bank-transactions/blob/task-2/models/model_building_and_training.ipynb\" target=\"_parent\"><img src=\"https://colab.research.google.com/assets/colab-badge.svg\" alt=\"Open In Colab\"/></a>"
      ]
    },
    {
      "cell_type": "markdown",
      "metadata": {
        "id": "dGSoaggxpLFf"
      },
      "source": [
        "# Data Preparation"
      ]
    },
    {
      "cell_type": "markdown",
      "metadata": {},
      "source": [
        "### Load Processed Data\n",
        "### First, let's load the processed data for both datasets:\n",
        "\n",
        "### Processed Fraud Data with Country: ../data/processed/processed_fraud_data_with_country.csv\n",
        "### Processed Credit Card Data: ../data/processed/processed_credit_card_data.csv"
      ]
    },
    {
      "cell_type": "code",
      "execution_count": 5,
      "metadata": {
        "colab": {
          "base_uri": "https://localhost:8080/"
        },
        "id": "6Ehz_GXwpLFh",
        "outputId": "0df33b53-8059-4db7-aa5b-3f268f5b258a"
      },
      "outputs": [
        {
          "name": "stderr",
          "output_type": "stream",
          "text": [
            "2024/06/25 20:50:00 INFO mlflow.tracking.fluent: Experiment with name 'Fraud and Credit Card Detection' does not exist. Creating a new experiment.\n"
          ]
        },
        {
          "name": "stderr",
          "output_type": "stream",
          "text": [
            "2024-06-25 20:50:00,924 - INFO - Directories created for saving models\n"
          ]
        }
      ],
      "source": [
        "import pandas as pd\n",
        "from sklearn.model_selection import train_test_split\n",
        "from sklearn.linear_model import LogisticRegression\n",
        "from sklearn.tree import DecisionTreeClassifier\n",
        "from sklearn.ensemble import RandomForestClassifier, GradientBoostingClassifier\n",
        "from sklearn.neural_network import MLPClassifier\n",
        "from sklearn.metrics import classification_report, accuracy_score\n",
        "import mlflow\n",
        "import mlflow.sklearn\n",
        "from sklearn.preprocessing import StandardScaler\n",
        "from sklearn.impute import SimpleImputer\n",
        "import numpy as np\n",
        "from scipy import sparse\n",
        "import joblib\n",
        "import os\n",
        "import logging\n",
        "\n",
        "# Configure logger\n",
        "logging.basicConfig(level=logging.DEBUG, format='%(asctime)s - %(levelname)s - %(message)s')\n",
        "logger = logging.getLogger()\n",
        "\n",
        "# Set MLflow tracking URI\n",
        "mlflow.set_tracking_uri(\"file:///mlruns\")\n",
        "\n",
        "# Set MLflow experiment\n",
        "mlflow.set_experiment(\"Fraud and Credit Card Detection\")\n",
        "\n",
        "# Create directories if not exist\n",
        "os.makedirs('models/fraud', exist_ok=True)\n",
        "os.makedirs('models/credit', exist_ok=True)\n",
        "\n",
        "logger.info(\"Directories created for saving models\")\n",
        "\n",
        "# Load processed data\n",
        "fraud_data = pd.read_csv('../data/processed/processed_fraud_data_with_country.csv')\n",
        "credit_card_data = pd.read_csv('../data/processed/processed_credit_card_data.csv')\n",
        "\n",
        "# Ensure datetime columns are correctly parsed\n",
        "fraud_data['signup_time'] = pd.to_datetime(fraud_data['signup_time'])\n",
        "fraud_data['purchase_time'] = pd.to_datetime(fraud_data['purchase_time'])\n",
        "\n",
        "# Feature Engineering for fraud_data\n",
        "fraud_data['signup_hour'] = fraud_data['signup_time'].dt.hour\n",
        "fraud_data['signup_day'] = fraud_data['signup_time'].dt.day\n",
        "fraud_data['signup_month'] = fraud_data['signup_time'].dt.month\n",
        "fraud_data['signup_year'] = fraud_data['signup_time'].dt.year\n",
        "\n",
        "fraud_data['purchase_hour'] = fraud_data['purchase_time'].dt.hour\n",
        "fraud_data['purchase_day'] = fraud_data['purchase_time'].dt.day\n",
        "fraud_data['purchase_month'] = fraud_data['purchase_time'].dt.month\n",
        "fraud_data['purchase_year'] = fraud_data['purchase_time'].dt.year\n",
        "\n",
        "# Drop original datetime columns\n",
        "fraud_data = fraud_data.drop(columns=['signup_time', 'purchase_time'])\n",
        "\n",
        "# Identify categorical columns\n",
        "categorical_columns = fraud_data.select_dtypes(include=['object']).columns.tolist()\n",
        "\n",
        "# Frequency Encoding of categorical features\n",
        "for col in categorical_columns:\n",
        "    freq_encoding = fraud_data[col].value_counts().to_dict()\n",
        "    fraud_data[col] = fraud_data[col].map(freq_encoding)\n",
        "\n",
        "# Convert data types to more memory efficient types\n",
        "for col in fraud_data.select_dtypes(include=['int64']).columns:\n",
        "    fraud_data[col] = fraud_data[col].astype('int32')\n",
        "for col in fraud_data.select_dtypes(include=['float64']).columns:\n",
        "    fraud_data[col] = fraud_data[col].astype('float32')\n",
        "\n",
        "# Feature and target separation for fraud detection data\n",
        "X_fraud = fraud_data.drop(columns=['class'])\n",
        "y_fraud = fraud_data['class']\n",
        "\n",
        "# Feature and target separation for credit card data\n",
        "X_credit = credit_card_data.drop(columns=['Class'])\n",
        "y_credit = credit_card_data['Class']\n",
        "\n",
        "# Handle missing values in features\n",
        "imputer = SimpleImputer(strategy='mean')\n",
        "X_fraud = imputer.fit_transform(X_fraud)\n",
        "X_credit = imputer.fit_transform(X_credit)\n",
        "\n",
        "# Convert X_fraud to a sparse matrix\n",
        "X_fraud_sparse = sparse.csr_matrix(X_fraud)\n",
        "\n",
        "# Handle missing values in target variables\n",
        "y_fraud = y_fraud.fillna(y_fraud.mode()[0])\n",
        "y_credit = y_credit.fillna(y_credit.mode()[0])\n",
        "\n",
        "# Train-test split for fraud data\n",
        "X_train_fraud, X_test_fraud, y_train_fraud, y_test_fraud = train_test_split(X_fraud_sparse, y_fraud, test_size=0.2, random_state=42)\n",
        "\n",
        "# Train-test split for credit card data\n",
        "X_train_credit, X_test_credit, y_train_credit, y_test_credit = train_test_split(X_credit, y_credit, test_size=0.2, random_state=42)"
      ]
    },
    {
      "cell_type": "markdown",
      "metadata": {
        "id": "tSxAMbnZpLFj"
      },
      "source": [
        "# Model Selection, Training, and Evaluation"
      ]
    },
    {
      "cell_type": "markdown",
      "metadata": {},
      "source": [
        "### We'll use several models to compare their performance:\n",
        "\n",
        "### Logistic Regression\n",
        "### Decision Tree\n",
        "### Random Forest\n",
        "### Gradient Boosting\n",
        "### Multi-Layer Perceptron (MLP)\n",
        "### Convolutional Neural Network (CNN) (for credit card data)\n",
        "### Recurrent Neural Network (RNN) or LSTM (for fraud detection data)"
      ]
    },
    {
      "cell_type": "markdown",
      "metadata": {},
      "source": [
        "### Model Training and Evaluation\n",
        "### Train and Evaluate Models\n",
        "### Here's how you might train and evaluate models for the fraud detection dataset (X_train_fraud, y_train_fraud, X_test_fraud, y_test_fraud). Repeat a similar process for the credit card dataset."
      ]
    },
    {
      "cell_type": "markdown",
      "metadata": {},
      "source": [
        "# MLOps Steps\n",
        "### Versioning and Experiment Tracking with MLflow\n",
        "### For versioning and experiment tracking, we'll integrate MLflow. Ensure you have MLflow installed (pip install mlflow) and set up in your environment."
      ]
    },
    {
      "cell_type": "code",
      "execution_count": 6,
      "metadata": {
        "colab": {
          "base_uri": "https://localhost:8080/"
        },
        "id": "QO7yaHSupLFj",
        "outputId": "f80d6fc2-709c-4aab-f840-3739d6bb3e62"
      },
      "outputs": [
        {
          "name": "stderr",
          "output_type": "stream",
          "text": [
            "2024-06-25 20:51:38,529 - INFO - Model Logistic Regression for Fraud Data saved to models/fraud_data/logistic_regression_model.joblib\n",
            "d:\\Improved detection of fraud cases in e-commerce and bank transactions\\.venv\\Lib\\site-packages\\sklearn\\metrics\\_classification.py:1517: UndefinedMetricWarning: Precision is ill-defined and being set to 0.0 in labels with no predicted samples. Use `zero_division` parameter to control this behavior.\n",
            "  _warn_prf(average, modifier, f\"{metric.capitalize()} is\", len(result))\n",
            "d:\\Improved detection of fraud cases in e-commerce and bank transactions\\.venv\\Lib\\site-packages\\sklearn\\metrics\\_classification.py:1517: UndefinedMetricWarning: Precision is ill-defined and being set to 0.0 in labels with no predicted samples. Use `zero_division` parameter to control this behavior.\n",
            "  _warn_prf(average, modifier, f\"{metric.capitalize()} is\", len(result))\n",
            "d:\\Improved detection of fraud cases in e-commerce and bank transactions\\.venv\\Lib\\site-packages\\sklearn\\metrics\\_classification.py:1517: UndefinedMetricWarning: Precision is ill-defined and being set to 0.0 in labels with no predicted samples. Use `zero_division` parameter to control this behavior.\n",
            "  _warn_prf(average, modifier, f\"{metric.capitalize()} is\", len(result))\n",
            "2024-06-25 20:51:38,564 - INFO - Model: Logistic Regression on Fraud Data\n",
            "2024-06-25 20:51:38,564 - INFO - Accuracy: 0.9057009562253913\n",
            "2024-06-25 20:51:38,564 - INFO -               precision    recall  f1-score   support\n",
            "\n",
            "           0       0.91      1.00      0.95     27373\n",
            "           1       0.00      0.00      0.00      2850\n",
            "\n",
            "    accuracy                           0.91     30223\n",
            "   macro avg       0.45      0.50      0.48     30223\n",
            "weighted avg       0.82      0.91      0.86     30223\n",
            "\n"
          ]
        },
        {
          "name": "stdout",
          "output_type": "stream",
          "text": [
            "Model: Logistic Regression\n",
            "Accuracy: 0.9057009562253913\n",
            "              precision    recall  f1-score   support\n",
            "\n",
            "           0       0.91      1.00      0.95     27373\n",
            "           1       0.00      0.00      0.00      2850\n",
            "\n",
            "    accuracy                           0.91     30223\n",
            "   macro avg       0.45      0.50      0.48     30223\n",
            "weighted avg       0.82      0.91      0.86     30223\n",
            "\n",
            "============================================================\n"
          ]
        },
        {
          "name": "stderr",
          "output_type": "stream",
          "text": [
            "2024-06-25 20:52:05,928 - INFO - Model Decision Tree for Fraud Data saved to models/fraud_data/decision_tree_model.joblib\n",
            "2024-06-25 20:52:05,980 - INFO - Model: Decision Tree on Fraud Data\n",
            "2024-06-25 20:52:05,980 - INFO - Accuracy: 0.9137081031002878\n",
            "2024-06-25 20:52:05,983 - INFO -               precision    recall  f1-score   support\n",
            "\n",
            "           0       0.96      0.95      0.95     27373\n",
            "           1       0.54      0.60      0.57      2850\n",
            "\n",
            "    accuracy                           0.91     30223\n",
            "   macro avg       0.75      0.77      0.76     30223\n",
            "weighted avg       0.92      0.91      0.92     30223\n",
            "\n"
          ]
        },
        {
          "name": "stdout",
          "output_type": "stream",
          "text": [
            "Model: Decision Tree\n",
            "Accuracy: 0.9137081031002878\n",
            "              precision    recall  f1-score   support\n",
            "\n",
            "           0       0.96      0.95      0.95     27373\n",
            "           1       0.54      0.60      0.57      2850\n",
            "\n",
            "    accuracy                           0.91     30223\n",
            "   macro avg       0.75      0.77      0.76     30223\n",
            "weighted avg       0.92      0.91      0.92     30223\n",
            "\n",
            "============================================================\n"
          ]
        },
        {
          "name": "stderr",
          "output_type": "stream",
          "text": [
            "2024-06-25 20:55:38,820 - INFO - Model Random Forest for Fraud Data saved to models/fraud_data/random_forest_model.joblib\n",
            "2024-06-25 20:55:38,842 - INFO - Model: Random Forest on Fraud Data\n",
            "2024-06-25 20:55:38,850 - INFO - Accuracy: 0.9564239155609966\n",
            "2024-06-25 20:55:38,851 - INFO -               precision    recall  f1-score   support\n",
            "\n",
            "           0       0.95      1.00      0.98     27373\n",
            "           1       1.00      0.54      0.70      2850\n",
            "\n",
            "    accuracy                           0.96     30223\n",
            "   macro avg       0.98      0.77      0.84     30223\n",
            "weighted avg       0.96      0.96      0.95     30223\n",
            "\n"
          ]
        },
        {
          "name": "stdout",
          "output_type": "stream",
          "text": [
            "Model: Random Forest\n",
            "Accuracy: 0.9564239155609966\n",
            "              precision    recall  f1-score   support\n",
            "\n",
            "           0       0.95      1.00      0.98     27373\n",
            "           1       1.00      0.54      0.70      2850\n",
            "\n",
            "    accuracy                           0.96     30223\n",
            "   macro avg       0.98      0.77      0.84     30223\n",
            "weighted avg       0.96      0.96      0.95     30223\n",
            "\n",
            "============================================================\n"
          ]
        },
        {
          "name": "stderr",
          "output_type": "stream",
          "text": [
            "2024-06-25 20:56:40,631 - INFO - Model Gradient Boosting for Fraud Data saved to models/fraud_data/gradient_boosting_model.joblib\n",
            "2024-06-25 20:56:40,656 - INFO - Model: Gradient Boosting on Fraud Data\n",
            "2024-06-25 20:56:40,657 - INFO - Accuracy: 0.956390828177216\n",
            "2024-06-25 20:56:40,657 - INFO -               precision    recall  f1-score   support\n",
            "\n",
            "           0       0.95      1.00      0.98     27373\n",
            "           1       1.00      0.54      0.70      2850\n",
            "\n",
            "    accuracy                           0.96     30223\n",
            "   macro avg       0.98      0.77      0.84     30223\n",
            "weighted avg       0.96      0.96      0.95     30223\n",
            "\n"
          ]
        },
        {
          "name": "stdout",
          "output_type": "stream",
          "text": [
            "Model: Gradient Boosting\n",
            "Accuracy: 0.956390828177216\n",
            "              precision    recall  f1-score   support\n",
            "\n",
            "           0       0.95      1.00      0.98     27373\n",
            "           1       1.00      0.54      0.70      2850\n",
            "\n",
            "    accuracy                           0.96     30223\n",
            "   macro avg       0.98      0.77      0.84     30223\n",
            "weighted avg       0.96      0.96      0.95     30223\n",
            "\n",
            "============================================================\n"
          ]
        },
        {
          "name": "stderr",
          "output_type": "stream",
          "text": [
            "2024-06-25 20:56:59,643 - INFO - Model MLP for Fraud Data saved to models/fraud_data/mlp_model.joblib\n",
            "2024-06-25 20:56:59,660 - INFO - Model: MLP on Fraud Data\n",
            "2024-06-25 20:56:59,666 - INFO - Accuracy: 0.9061310922145386\n",
            "2024-06-25 20:56:59,666 - INFO -               precision    recall  f1-score   support\n",
            "\n",
            "           0       0.91      1.00      0.95     27373\n",
            "           1       0.53      0.04      0.07      2850\n",
            "\n",
            "    accuracy                           0.91     30223\n",
            "   macro avg       0.72      0.52      0.51     30223\n",
            "weighted avg       0.87      0.91      0.87     30223\n",
            "\n"
          ]
        },
        {
          "name": "stdout",
          "output_type": "stream",
          "text": [
            "Model: MLP\n",
            "Accuracy: 0.9061310922145386\n",
            "              precision    recall  f1-score   support\n",
            "\n",
            "           0       0.91      1.00      0.95     27373\n",
            "           1       0.53      0.04      0.07      2850\n",
            "\n",
            "    accuracy                           0.91     30223\n",
            "   macro avg       0.72      0.52      0.51     30223\n",
            "weighted avg       0.87      0.91      0.87     30223\n",
            "\n",
            "============================================================\n"
          ]
        },
        {
          "name": "stderr",
          "output_type": "stream",
          "text": [
            "d:\\Improved detection of fraud cases in e-commerce and bank transactions\\.venv\\Lib\\site-packages\\sklearn\\linear_model\\_logistic.py:469: ConvergenceWarning: lbfgs failed to converge (status=1):\n",
            "STOP: TOTAL NO. of ITERATIONS REACHED LIMIT.\n",
            "\n",
            "Increase the number of iterations (max_iter) or scale the data as shown in:\n",
            "    https://scikit-learn.org/stable/modules/preprocessing.html\n",
            "Please also refer to the documentation for alternative solver options:\n",
            "    https://scikit-learn.org/stable/modules/linear_model.html#logistic-regression\n",
            "  n_iter_i = _check_optimize_result(\n",
            "2024-06-25 20:57:31,420 - INFO - Model Logistic Regression for Credit Card Data saved to models/credit_card_data/logistic_regression_model.joblib\n",
            "2024-06-25 20:57:31,482 - INFO - Model: Logistic Regression on Credit Card Data\n",
            "2024-06-25 20:57:31,482 - INFO - Accuracy: 0.9991893701758714\n",
            "2024-06-25 20:57:31,484 - INFO -               precision    recall  f1-score   support\n",
            "\n",
            "           0       1.00      1.00      1.00     56656\n",
            "           1       0.85      0.59      0.70        90\n",
            "\n",
            "    accuracy                           1.00     56746\n",
            "   macro avg       0.93      0.79      0.85     56746\n",
            "weighted avg       1.00      1.00      1.00     56746\n",
            "\n"
          ]
        },
        {
          "name": "stdout",
          "output_type": "stream",
          "text": [
            "Model: Logistic Regression\n",
            "Accuracy: 0.9991893701758714\n",
            "              precision    recall  f1-score   support\n",
            "\n",
            "           0       1.00      1.00      1.00     56656\n",
            "           1       0.85      0.59      0.70        90\n",
            "\n",
            "    accuracy                           1.00     56746\n",
            "   macro avg       0.93      0.79      0.85     56746\n",
            "weighted avg       1.00      1.00      1.00     56746\n",
            "\n",
            "============================================================\n"
          ]
        },
        {
          "name": "stderr",
          "output_type": "stream",
          "text": [
            "2024-06-25 20:58:05,970 - INFO - Model Decision Tree for Credit Card Data saved to models/credit_card_data/decision_tree_model.joblib\n",
            "2024-06-25 20:58:06,035 - INFO - Model: Decision Tree on Credit Card Data\n",
            "2024-06-25 20:58:06,036 - INFO - Accuracy: 0.9989955239135798\n",
            "2024-06-25 20:58:06,036 - INFO -               precision    recall  f1-score   support\n",
            "\n",
            "           0       1.00      1.00      1.00     56656\n",
            "           1       0.67      0.72      0.70        90\n",
            "\n",
            "    accuracy                           1.00     56746\n",
            "   macro avg       0.83      0.86      0.85     56746\n",
            "weighted avg       1.00      1.00      1.00     56746\n",
            "\n"
          ]
        },
        {
          "name": "stdout",
          "output_type": "stream",
          "text": [
            "Model: Decision Tree\n",
            "Accuracy: 0.9989955239135798\n",
            "              precision    recall  f1-score   support\n",
            "\n",
            "           0       1.00      1.00      1.00     56656\n",
            "           1       0.67      0.72      0.70        90\n",
            "\n",
            "    accuracy                           1.00     56746\n",
            "   macro avg       0.83      0.86      0.85     56746\n",
            "weighted avg       1.00      1.00      1.00     56746\n",
            "\n",
            "============================================================\n"
          ]
        },
        {
          "name": "stderr",
          "output_type": "stream",
          "text": [
            "2024-06-25 21:03:03,522 - INFO - Model Random Forest for Credit Card Data saved to models/credit_card_data/random_forest_model.joblib\n",
            "2024-06-25 21:03:03,566 - INFO - Model: Random Forest on Credit Card Data\n",
            "2024-06-25 21:03:03,567 - INFO - Accuracy: 0.9995594403129736\n",
            "2024-06-25 21:03:03,567 - INFO -               precision    recall  f1-score   support\n",
            "\n",
            "           0       1.00      1.00      1.00     56656\n",
            "           1       0.99      0.73      0.84        90\n",
            "\n",
            "    accuracy                           1.00     56746\n",
            "   macro avg       0.99      0.87      0.92     56746\n",
            "weighted avg       1.00      1.00      1.00     56746\n",
            "\n"
          ]
        },
        {
          "name": "stdout",
          "output_type": "stream",
          "text": [
            "Model: Random Forest\n",
            "Accuracy: 0.9995594403129736\n",
            "              precision    recall  f1-score   support\n",
            "\n",
            "           0       1.00      1.00      1.00     56656\n",
            "           1       0.99      0.73      0.84        90\n",
            "\n",
            "    accuracy                           1.00     56746\n",
            "   macro avg       0.99      0.87      0.92     56746\n",
            "weighted avg       1.00      1.00      1.00     56746\n",
            "\n",
            "============================================================\n"
          ]
        },
        {
          "name": "stderr",
          "output_type": "stream",
          "text": [
            "2024-06-25 21:08:54,509 - INFO - Model Gradient Boosting for Credit Card Data saved to models/credit_card_data/gradient_boosting_model.joblib\n",
            "2024-06-25 21:08:54,555 - INFO - Model: Gradient Boosting on Credit Card Data\n",
            "2024-06-25 21:08:54,556 - INFO - Accuracy: 0.9993127268882388\n",
            "2024-06-25 21:08:54,557 - INFO -               precision    recall  f1-score   support\n",
            "\n",
            "           0       1.00      1.00      1.00     56656\n",
            "           1       0.90      0.63      0.75        90\n",
            "\n",
            "    accuracy                           1.00     56746\n",
            "   macro avg       0.95      0.82      0.87     56746\n",
            "weighted avg       1.00      1.00      1.00     56746\n",
            "\n"
          ]
        },
        {
          "name": "stdout",
          "output_type": "stream",
          "text": [
            "Model: Gradient Boosting\n",
            "Accuracy: 0.9993127268882388\n",
            "              precision    recall  f1-score   support\n",
            "\n",
            "           0       1.00      1.00      1.00     56656\n",
            "           1       0.90      0.63      0.75        90\n",
            "\n",
            "    accuracy                           1.00     56746\n",
            "   macro avg       0.95      0.82      0.87     56746\n",
            "weighted avg       1.00      1.00      1.00     56746\n",
            "\n",
            "============================================================\n"
          ]
        },
        {
          "name": "stderr",
          "output_type": "stream",
          "text": [
            "2024-06-25 21:09:09,453 - INFO - Model MLP for Credit Card Data saved to models/credit_card_data/mlp_model.joblib\n",
            "2024-06-25 21:09:09,510 - INFO - Model: MLP on Credit Card Data\n",
            "2024-06-25 21:09:09,511 - INFO - Accuracy: 0.9983787403517429\n",
            "2024-06-25 21:09:09,511 - INFO -               precision    recall  f1-score   support\n",
            "\n",
            "           0       1.00      1.00      1.00     56656\n",
            "           1       0.00      0.00      0.00        90\n",
            "\n",
            "    accuracy                           1.00     56746\n",
            "   macro avg       0.50      0.50      0.50     56746\n",
            "weighted avg       1.00      1.00      1.00     56746\n",
            "\n"
          ]
        },
        {
          "name": "stdout",
          "output_type": "stream",
          "text": [
            "Model: MLP\n",
            "Accuracy: 0.9983787403517429\n",
            "              precision    recall  f1-score   support\n",
            "\n",
            "           0       1.00      1.00      1.00     56656\n",
            "           1       0.00      0.00      0.00        90\n",
            "\n",
            "    accuracy                           1.00     56746\n",
            "   macro avg       0.50      0.50      0.50     56746\n",
            "weighted avg       1.00      1.00      1.00     56746\n",
            "\n",
            "============================================================\n"
          ]
        }
      ],
      "source": [
        "# Initialize models\n",
        "models = {\n",
        "    'Logistic Regression': LogisticRegression(max_iter=1000),\n",
        "    'Decision Tree': DecisionTreeClassifier(),\n",
        "    'Random Forest': RandomForestClassifier(),\n",
        "    'Gradient Boosting': GradientBoostingClassifier(),\n",
        "    'MLP': MLPClassifier(max_iter=1000)\n",
        "}\n",
        "\n",
        "# Function to train and evaluate models\n",
        "def train_and_evaluate_model(model, X_train, y_train, X_test, y_test, dataset_name, model_name):\n",
        "    with mlflow.start_run(run_name=f'{model_name} on {dataset_name}'):\n",
        "        model.fit(X_train, y_train)\n",
        "        y_pred = model.predict(X_test)\n",
        "        accuracy = accuracy_score(y_test, y_pred)\n",
        "\n",
        "        # Log parameters and metrics\n",
        "        mlflow.log_params({\n",
        "            'model': model_name,\n",
        "            'dataset': dataset_name,\n",
        "            'test_size': 0.2,\n",
        "            'random_state': 42\n",
        "        })\n",
        "        mlflow.log_metric('accuracy', accuracy)\n",
        "\n",
        "        # Save the model with mlflow\n",
        "        mlflow.sklearn.log_model(model, f'{model_name}_model')\n",
        "\n",
        "        # Form path without spaces\n",
        "        dataset_path = dataset_name.lower().replace(' ', '_')\n",
        "        model_path = model_name.lower().replace(' ', '_').replace(' ', '_')\n",
        "        local_model_path = f\"models/{dataset_path}/{model_path}_model.joblib\"\n",
        "\n",
        "        # Ensure directory exists\n",
        "        os.makedirs(f\"models/{dataset_path}\", exist_ok=True)\n",
        "        joblib.dump(model, local_model_path)\n",
        "        logger.info(f\"Model {model_name} for {dataset_name} saved to {local_model_path}\")\n",
        "\n",
        "        # Print and log classification report\n",
        "        report = classification_report(y_test, y_pred)\n",
        "        logger.info(f\"Model: {model_name} on {dataset_name}\")\n",
        "        logger.info(f\"Accuracy: {accuracy}\")\n",
        "        logger.info(report)\n",
        "        print(f\"Model: {model_name}\")\n",
        "        print(f\"Accuracy: {accuracy}\")\n",
        "        print(report)\n",
        "        print(\"=\"*60)\n",
        "\n",
        "# Train and evaluate models for fraud detection data\n",
        "for name, model in models.items():\n",
        "    train_and_evaluate_model(model, X_train_fraud, y_train_fraud, X_test_fraud, y_test_fraud, 'Fraud Data', name)\n",
        "\n",
        "# Train and evaluate models for credit card data\n",
        "for name, model in models.items():\n",
        "    train_and_evaluate_model(model, X_train_credit, y_train_credit, X_test_credit, y_test_credit, 'Credit Card Data', name)"
      ]
    }
  ],
  "metadata": {
    "colab": {
      "include_colab_link": true,
      "provenance": []
    },
    "kernelspec": {
      "display_name": ".venv",
      "language": "python",
      "name": "python3"
    },
    "language_info": {
      "codemirror_mode": {
        "name": "ipython",
        "version": 3
      },
      "file_extension": ".py",
      "mimetype": "text/x-python",
      "name": "python",
      "nbconvert_exporter": "python",
      "pygments_lexer": "ipython3",
      "version": "3.12.2"
    }
  },
  "nbformat": 4,
  "nbformat_minor": 0
}
