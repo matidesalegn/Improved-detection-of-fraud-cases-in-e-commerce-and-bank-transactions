{
 "cells": [
  {
   "cell_type": "code",
   "execution_count": null,
   "metadata": {},
   "outputs": [],
   "source": [
    "import pandas as pd\n",
    "import ipaddress\n",
    "from intervaltree import Interval, IntervalTree\n",
    "\n",
    "# Function to convert IP address to integer\n",
    "def ip_to_int(ip):\n",
    "    if pd.isna(ip):\n",
    "        return None\n",
    "    try:\n",
    "        return int(ip)\n",
    "    except ValueError:\n",
    "        return int(ipaddress.ip_address(ip))\n",
    "\n",
    "# Load the datasets\n",
    "fraud_data = pd.read_csv('../data/processed/processed_fraud_data.csv')\n",
    "ip_address_data = pd.read_csv('../data/raw/IpAddress_to_Country.csv')\n",
    "\n",
    "# Print columns of ip_address_data to inspect\n",
    "print(ip_address_data.columns)\n",
    "\n",
    "# Handle NaN values in IP address columns and convert IP address ranges to integers\n",
    "ip_address_data.dropna(subset=['lower_bound_ip_address', 'upper_bound_ip_address'], inplace=True)\n",
    "ip_address_data['lower_bound_ip_address_int'] = ip_address_data['lower_bound_ip_address'].apply(ip_to_int)\n",
    "ip_address_data['upper_bound_ip_address_int'] = ip_address_data['upper_bound_ip_address'].apply(ip_to_int)\n",
    "\n",
    "# Create an interval tree for IP ranges\n",
    "ip_tree = IntervalTree()\n",
    "for _, row in ip_address_data.iterrows():\n",
    "    ip_tree[row['lower_bound_ip_address_int']:row['upper_bound_ip_address_int'] + 1] = row['country']\n",
    "\n",
    "# Function to map IP address to country using the interval tree\n",
    "def map_ip_to_country(ip_int):\n",
    "    if ip_int is None:\n",
    "        return 'Unknown'\n",
    "    interval = ip_tree[ip_int]\n",
    "    if interval:\n",
    "        return interval.pop().data\n",
    "    else:\n",
    "        return 'Unknown'\n",
    "\n",
    "# Handle NaN values in fraud_data IP addresses and apply function to get country for each IP address\n",
    "fraud_data.dropna(subset=['ip_address'], inplace=True)\n",
    "fraud_data['ip_address_int'] = fraud_data['ip_address'].apply(ip_to_int)\n",
    "fraud_data['country'] = fraud_data['ip_address_int'].apply(map_ip_to_country)\n",
    "\n",
    "# Save the processed fraud data with country information\n",
    "fraud_data.to_csv('../data/processed/processed_fraud_data_with_country.csv', index=False)\n",
    "\n",
    "# Display the first few rows of the updated fraud_data\n",
    "print(fraud_data.head())"
   ]
  }
 ],
 "metadata": {
  "language_info": {
   "name": "python"
  }
 },
 "nbformat": 4,
 "nbformat_minor": 2
}
